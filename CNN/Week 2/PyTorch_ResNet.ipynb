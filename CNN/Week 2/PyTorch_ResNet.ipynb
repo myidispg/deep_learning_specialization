{
  "nbformat": 4,
  "nbformat_minor": 0,
  "metadata": {
    "colab": {
      "name": "PyTorch ResNet.ipynb",
      "version": "0.3.2",
      "provenance": [],
      "collapsed_sections": [],
      "include_colab_link": true
    },
    "kernelspec": {
      "name": "python3",
      "display_name": "Python 3"
    },
    "accelerator": "GPU"
  },
  "cells": [
    {
      "cell_type": "markdown",
      "metadata": {
        "id": "view-in-github",
        "colab_type": "text"
      },
      "source": [
        "<a href=\"https://colab.research.google.com/github/myidispg/deep_learning_specialization/blob/master/CNN/Week%202/PyTorch_ResNet.ipynb\" target=\"_parent\"><img src=\"https://colab.research.google.com/assets/colab-badge.svg\" alt=\"Open In Colab\"/></a>"
      ]
    },
    {
      "cell_type": "code",
      "metadata": {
        "id": "PBRv6GLzCGfI",
        "colab_type": "code",
        "outputId": "aca02456-079d-42ec-a2de-5e211bb6c924",
        "colab": {
          "base_uri": "https://localhost:8080/",
          "height": 34
        }
      },
      "source": [
        "import torch\n",
        "import torchvision\n",
        "import torchvision.transforms as transforms\n",
        "\n",
        "import numpy as np\n",
        "import pandas as pd\n",
        "\n",
        "import matplotlib.pyplot as plt\n",
        "%matplotlib inline\n",
        "\n",
        "data_dir = './data'\n",
        "batch_size = 64\n",
        "device = torch.device('cuda' if torch.cuda.is_available() else 'cpu')\n",
        "device"
      ],
      "execution_count": 0,
      "outputs": [
        {
          "output_type": "execute_result",
          "data": {
            "text/plain": [
              "device(type='cuda')"
            ]
          },
          "metadata": {
            "tags": []
          },
          "execution_count": 1
        }
      ]
    },
    {
      "cell_type": "code",
      "metadata": {
        "id": "YJ7cKGaqCRvr",
        "colab_type": "code",
        "outputId": "98a03792-c3f5-454a-9af7-4c12e6445650",
        "colab": {
          "base_uri": "https://localhost:8080/",
          "height": 292
        }
      },
      "source": [
        "transform = transforms.Compose([transforms.ToTensor(),\n",
        "                               transforms.Normalize((0.5, 0.5, 0.5), (0.5, 0.5, 0.5))])\n",
        "\n",
        "# trainset = torchvision.datasets.CIFAR10(root='./data', train=True,\n",
        "#                                         download=True, transform=transform)\n",
        "# trainloader = torch.utils.data.DataLoader(trainset, batch_size=64,\n",
        "#                                           shuffle=True, num_workers=2)\n",
        "\n",
        "# testset = torchvision.datasets.CIFAR10(root='./data', train=False,\n",
        "#                                        download=True, transform=transform)\n",
        "# testloader = torch.utils.data.DataLoader(testset, batch_size=64,\n",
        "#                                          shuffle=False, num_workers=2)\n",
        "\n",
        "trainloader = torch.utils.data.DataLoader(\n",
        "  torchvision.datasets.MNIST('/files/', train=True, download=True,\n",
        "                             transform=torchvision.transforms.Compose([\n",
        "                               torchvision.transforms.ToTensor(),\n",
        "                               torchvision.transforms.Normalize(\n",
        "                                 (0.1307,), (0.3081,))\n",
        "                             ])),\n",
        "  batch_size=batch_size, shuffle=True)\n",
        "\n",
        "testloader = torch.utils.data.DataLoader(\n",
        "  torchvision.datasets.MNIST('/files/', train=False, download=True,\n",
        "                             transform=torchvision.transforms.Compose([\n",
        "                               torchvision.transforms.ToTensor(),\n",
        "                               torchvision.transforms.Normalize(\n",
        "                                 (0.1307,), (0.3081,))\n",
        "                             ])),\n",
        "  batch_size=batch_size, shuffle=True)\n",
        "\n",
        "# classes = ['plane', 'car', 'bird', 'cat', 'deer', 'dog', 'frog', 'horse', 'ship', 'truck']\n",
        "classes = [0, 1, 2, 3, 4, 5, 6, 7, 8, 9]\n",
        "\n",
        "print(len(trainloader.dataset))"
      ],
      "execution_count": 0,
      "outputs": [
        {
          "output_type": "stream",
          "text": [
            "  0%|          | 0/9912422 [00:00<?, ?it/s]"
          ],
          "name": "stderr"
        },
        {
          "output_type": "stream",
          "text": [
            "Downloading http://yann.lecun.com/exdb/mnist/train-images-idx3-ubyte.gz to /files/MNIST/raw/train-images-idx3-ubyte.gz\n"
          ],
          "name": "stdout"
        },
        {
          "output_type": "stream",
          "text": [
            "9920512it [00:00, 27378043.40it/s]                            \n"
          ],
          "name": "stderr"
        },
        {
          "output_type": "stream",
          "text": [
            "Extracting /files/MNIST/raw/train-images-idx3-ubyte.gz\n"
          ],
          "name": "stdout"
        },
        {
          "output_type": "stream",
          "text": [
            "32768it [00:00, 447627.02it/s]\n",
            "  1%|          | 16384/1648877 [00:00<00:11, 147766.66it/s]"
          ],
          "name": "stderr"
        },
        {
          "output_type": "stream",
          "text": [
            "Downloading http://yann.lecun.com/exdb/mnist/train-labels-idx1-ubyte.gz to /files/MNIST/raw/train-labels-idx1-ubyte.gz\n",
            "Extracting /files/MNIST/raw/train-labels-idx1-ubyte.gz\n",
            "Downloading http://yann.lecun.com/exdb/mnist/t10k-images-idx3-ubyte.gz to /files/MNIST/raw/t10k-images-idx3-ubyte.gz\n"
          ],
          "name": "stdout"
        },
        {
          "output_type": "stream",
          "text": [
            "1654784it [00:00, 7354505.16it/s]                            \n",
            "8192it [00:00, 183686.91it/s]\n"
          ],
          "name": "stderr"
        },
        {
          "output_type": "stream",
          "text": [
            "Extracting /files/MNIST/raw/t10k-images-idx3-ubyte.gz\n",
            "Downloading http://yann.lecun.com/exdb/mnist/t10k-labels-idx1-ubyte.gz to /files/MNIST/raw/t10k-labels-idx1-ubyte.gz\n",
            "Extracting /files/MNIST/raw/t10k-labels-idx1-ubyte.gz\n",
            "Processing...\n",
            "Done!\n",
            "60000\n"
          ],
          "name": "stdout"
        }
      ]
    },
    {
      "cell_type": "markdown",
      "metadata": {
        "id": "w4Kyg-HJHrfL",
        "colab_type": "text"
      },
      "source": [
        "# Plotting some images from both the train and test set"
      ]
    },
    {
      "cell_type": "code",
      "metadata": {
        "id": "FilEufQ7HJHT",
        "colab_type": "code",
        "outputId": "84b6fd3c-4fb3-402a-8aa9-e642e5bbf098",
        "colab": {
          "base_uri": "https://localhost:8080/",
          "height": 257
        }
      },
      "source": [
        "# To unnormalize the image and put channel after the image height and width.\n",
        "def im_show_process(img):\n",
        "  img = (img / 2) + 0.5 # Unnormalize the image\n",
        "  img = img.numpy()\n",
        "  \n",
        "  # Since, PyTorch needs channels before the height and width and\n",
        "  # matplotlib needs channels afterwards, transpose them to make images compatible.\n",
        "  \n",
        "  # For Cifar-10\n",
        "#   return np.transpose(img, (1, 2, 0))\n",
        "  # For MNIST\n",
        "  return np.transpose(img, (1, 2, 0)).reshape(img.shape[1], -1)\n",
        "\n",
        "print(f'Plotting 10 random images from the train set and their corresponding labels...')\n",
        "dataiter = iter(trainloader)\n",
        "images, labels = dataiter.next()\n",
        "\n",
        "f, axarr = plt.subplots(2, 5)\n",
        "\n",
        "for i in range(2):\n",
        "  for j in range(5):\n",
        "    index = np.random.randint(0, 64)\n",
        "    image = (im_show_process(images[index]))\n",
        "    axarr[i, j].imshow(im_show_process(images[index]))\n",
        "    axarr[i, j].set_title(classes[labels[index]])"
      ],
      "execution_count": 0,
      "outputs": [
        {
          "output_type": "stream",
          "text": [
            "Plotting 10 random images from the train set and their corresponding labels...\n"
          ],
          "name": "stdout"
        },
        {
          "output_type": "display_data",
          "data": {
            "image/png": "[encoded data removed]",
            "text/plain": [
              "<Figure size 432x288 with 10 Axes>"
            ]
          },
          "metadata": {
            "tags": []
          }
        }
      ]
    },
    {
      "cell_type": "code",
      "metadata": {
        "id": "kmDYt9dZIgMt",
        "colab_type": "code",
        "outputId": "e08de6b9-2f24-4e4d-9745-68eef62e585a",
        "colab": {
          "base_uri": "https://localhost:8080/",
          "height": 257
        }
      },
      "source": [
        "print(f'Plotting 10 random images from the test set and their corresponding labels...')\n",
        "dataiter = iter(testloader)\n",
        "images, labels = dataiter.next()\n",
        "\n",
        "f, axarr = plt.subplots(2, 5)\n",
        "\n",
        "for i in range(2):\n",
        "  for j in range(5):\n",
        "    index = np.random.randint(0, 64)\n",
        "    axarr[i, j].imshow(im_show_process(images[index]))\n",
        "    axarr[i, j].set_title(classes[labels[index]])"
      ],
      "execution_count": 0,
      "outputs": [
        {
          "output_type": "stream",
          "text": [
            "Plotting 10 random images from the test set and their corresponding labels...\n"
          ],
          "name": "stdout"
        },
        {
          "output_type": "display_data",
          "data": {
            "image/png": "[encoded data removed]",
            "text/plain": [
              "<Figure size 432x288 with 10 Axes>"
            ]
          },
          "metadata": {
            "tags": []
          }
        }
      ]
    },
    {
      "cell_type": "markdown",
      "metadata": {
        "id": "YvECp-XdKPEP",
        "colab_type": "text"
      },
      "source": [
        "## Thanks to PyTorch datasets, not much of anything is required.\n",
        "### Next step: Building the model."
      ]
    },
    {
      "cell_type": "code",
      "metadata": {
        "id": "28G3G9ldKIkh",
        "colab_type": "code",
        "outputId": "197e9b88-5e0b-4feb-d652-29cfeebea074",
        "colab": {
          "base_uri": "https://localhost:8080/",
          "height": 34
        }
      },
      "source": [
        "import torch.nn as nn\n",
        "import torch.nn.functional as F\n",
        "\n",
        "\n",
        "class IdentityBlock(nn.Module):\n",
        "  \"\"\"\n",
        "  Implementing an identity block where the dimensions of both the opearands \n",
        "  while implementing the skip connection should be same.\n",
        "  \n",
        "  Inputs:\n",
        "  X: Input tensor of shape(m, n_channels, n_H, n_W)\n",
        "  f: filter size for the middle convolutional layer of the main path.\n",
        "  filters: A list of 3 integers specifying the number of filters at each layer\n",
        "           in the main path.\n",
        "  in_channels = Number of input channels\n",
        "  \"\"\"\n",
        "  \n",
        "  def __init__(self, f, filters, in_channels):\n",
        "    super(IdentityBlock, self).__init__()\n",
        "    \n",
        "    F1, F2, F3 = filters\n",
        "    \n",
        "    # First component in the main path\n",
        "    self.conv1 = nn.Conv2d(in_channels, F1, kernel_size=(1,1), stride=(1,1))\n",
        "    self.batch_norm1 = nn.BatchNorm2d(F1)\n",
        "    \n",
        "    # Second component in the main path\n",
        "    # Since PyTorch does not implement valid padding and same padding,\n",
        "    # manually apply padding to cover case of both even and odd filter size.\n",
        "    pad = (f-1)//2\n",
        "    self.conv2 = None\n",
        "    self.is_zero_pad = False\n",
        "    if f%2 == 0: # If the filter size is even, padding only the right side.\n",
        "      limit = f-1\n",
        "      pad_1 = (f-1)//2\n",
        "      pad_2 = limit-pad_1\n",
        "      self.is_zero_pad = True\n",
        "      self.zero_pad = nn.ZeroPad2d((pad_1, pad_2, pad_1, pad_2))\n",
        "      self.conv2 = nn.Conv2d(F1, F2, kernel_size=(f,f), stride=(1,1), padding=0)\n",
        "    else:\n",
        "      self.conv2 = nn.Conv2d(F1, F2, kernel_size=(f,f), stride=(1,1), \n",
        "                             padding=pad)\n",
        "    self.batch_norm2 = nn.BatchNorm2d(F2)\n",
        "    \n",
        "    # Third component in the main path\n",
        "    self.conv3 = nn.Conv2d(F2, F3, kernel_size=(1,1), stride=(1,1))\n",
        "    self.batch_norm3 = nn.BatchNorm2d(F3)\n",
        "    \n",
        "    self.relu = nn.ReLU()\n",
        "    \n",
        "  def layer(self, X):\n",
        "    X_shortcut = X\n",
        "#     print(f'Shape of shortcut: {X.shape}')\n",
        "    \n",
        "    X = self.relu(self.batch_norm1(self.conv1(X)))\n",
        "#     print(f'After 1: {X.shape}')\n",
        "#     print(f'SHape zero pad: {self.zero_pad(X).shape}')\n",
        "\n",
        "    if self.is_zero_pad:\n",
        "      X = self.relu(self.batch_norm2(self.conv2(self.zero_pad(X))))\n",
        "    else:\n",
        "      X = self.relu(self.batch_norm2(self.conv2(X)))\n",
        "\n",
        "#     print(f'After 2: {X.shape}')\n",
        "    X = self.batch_norm3(self.conv3(X))\n",
        "    \n",
        "#     print(f'After 3: {X.shape}')\n",
        "    X += X_shortcut\n",
        "    return self.relu(X)\n",
        "    \n",
        "    \n",
        "test = IdentityBlock(f=3, filters=[256, 256, 1024], in_channels=1024)\n",
        "image = torch.randn((3, 1024, 1, 1))\n",
        "image = test.layer(image)\n",
        "print(image.shape)"
      ],
      "execution_count": 0,
      "outputs": [
        {
          "output_type": "stream",
          "text": [
            "torch.Size([3, 1024, 1, 1])\n"
          ],
          "name": "stdout"
        }
      ]
    },
    {
      "cell_type": "code",
      "metadata": {
        "id": "BEfGiIyaHEFP",
        "colab_type": "code",
        "outputId": "f93e2fba-ee9a-4d14-b3b0-f60b14763f73",
        "colab": {
          "base_uri": "https://localhost:8080/",
          "height": 34
        }
      },
      "source": [
        "class ConvolutionalBlock(nn.Module):\n",
        "  \"\"\"\n",
        "  Implementing the convolutional block where the operands of the skip\n",
        "  connection are of different sizes.\n",
        "  \"\"\"\n",
        "  \n",
        "  def __init__(self, f, filters, in_channels, stride=2):\n",
        "    super(ConvolutionalBlock, self).__init__() \n",
        "    \n",
        "    # Retrieving the filters\n",
        "    F1, F2, F3 = filters\n",
        "     \n",
        "    # First component in main path\n",
        "    self.conv1 = nn.Conv2d(in_channels, F1, kernel_size=(1,1), \n",
        "                           stride=(stride, stride))\n",
        "    self.batch_norm1 = nn.BatchNorm2d(F1)\n",
        "    \n",
        "    # Second component in the main path\n",
        "    # Since PyTorch does not implement valid padding and same padding,\n",
        "    # manually apply padding to cover case of both even and odd filter size.\n",
        "    pad = (f-1)//2\n",
        "    self.conv2 = None\n",
        "    self.is_zero_pad = False\n",
        "    if f%2 == 0: # If the filter size is even, padding only the right side.\n",
        "      limit = f-1\n",
        "      pad_1 = (f-1)//2\n",
        "      pad_2 = limit-pad_1\n",
        "      self.is_zero_pad = True\n",
        "      self.zero_pad = nn.ZeroPad2d((pad_1, pad_2, pad_1, pad_2))\n",
        "      self.conv2 = nn.Conv2d(F1, F2, kernel_size=(f,f), stride=(1,1), padding=0)\n",
        "    else:\n",
        "      self.conv2 = nn.Conv2d(F1, F2, kernel_size=(f,f), stride=(1,1),\n",
        "                             padding=pad)\n",
        "    self.batch_norm2 = nn.BatchNorm2d(F2)\n",
        "    \n",
        "    # Third component in the main path\n",
        "    self.conv3 = nn.Conv2d(F2, F3, kernel_size=(1,1), stride=(1,1))\n",
        "    self.batch_norm3 = nn.BatchNorm2d(F3)\n",
        "    \n",
        "    # Shortcut path. Making sure the dimensions match.\n",
        "    self.conv_shortcut = nn.Conv2d(in_channels, F3, kernel_size=(1,1), \n",
        "                                   stride=(stride, stride))\n",
        "    # this is same as the third batch norm. Seperate for readability purpose.\n",
        "    self.batch_norm_shortcut = nn.BatchNorm2d(F3) \n",
        "    \n",
        "    self.relu = nn.ReLU()\n",
        "    \n",
        "  def layer(self, X):\n",
        "    X_shortcut = X\n",
        "#     print(f'Input_shape: {X.shape}')\n",
        "    X = self.relu(self.batch_norm1(self.conv1(X)))\n",
        "#     print(f'After 1: {X.shape}')\n",
        "    \n",
        "    if self.is_zero_pad:\n",
        "      X = self.relu(self.batch_norm2(self.conv2(self.zero_pad(X))))\n",
        "    else:\n",
        "      X = self.relu(self.batch_norm2(self.conv2(X)))\n",
        "#     print(f'After 2: {X.shape}')\n",
        "    \n",
        "    X = self.batch_norm3(self.conv3(X))\n",
        "#     print(f'After 3: {X.shape}')\n",
        "    \n",
        "    # Implement the shortcut path\n",
        "    X_shortcut = self.batch_norm_shortcut(self.conv_shortcut(X_shortcut))\n",
        "#     print(f'After shortcut: {X_shortcut.shape}')\n",
        "    X += X_shortcut\n",
        "      \n",
        "    return self.relu(X)\n",
        "  \n",
        "conv_block = ConvolutionalBlock(f=3, filters=[512, 512, 2048], in_channels=1024, stride=2)\n",
        "image = torch.randn((3, 1024, 1, 1))\n",
        "image = conv_block.layer(image)\n",
        "print(image.shape)"
      ],
      "execution_count": 0,
      "outputs": [
        {
          "output_type": "stream",
          "text": [
            "torch.Size([3, 2048, 1, 1])\n"
          ],
          "name": "stdout"
        }
      ]
    },
    {
      "cell_type": "markdown",
      "metadata": {
        "id": "PLsnfJ5rlI8s",
        "colab_type": "text"
      },
      "source": [
        "## Building the Resnet 50 model.\n",
        "\n",
        "We now have the building blocks for the model. Now, the architecture is defined as:\n",
        "\n",
        "\n",
        "*   Zero Padding the input with a pad of (3,3)\n",
        "*   Stage 1:\n",
        "  *  The 2D Convolution has 64 filters of shape (7,7) ans uses a stride of (2, 2)\n",
        "  * Batch Normalization is applied\n",
        "  * MaxPooling (3,3) window and (2,2) stride.\n",
        "*   Stage 2: \n",
        "  *  The convolutional block uses three set of filters of size [64,64,256], \"f\" is 3, \"s\" is 1\n",
        "  *  The 2 identity blocks use three set of filters of size [64,64,256], \"f\" is 3\n",
        "*   Stage 3:\n",
        "  *  The convolutional block uses three set of filters of size [128,128,512], \"f\" is 3, \"s\" is 2\n",
        "  *  The 3 identity blocks use three set of filters of size [128,128,512], \"f\" is 3\n",
        "*   Stage 4:\n",
        "  *  The convolutional block uses three set of filters of size [256, 256, 1024], \"f\" is 3, \"s\" is 2\n",
        "  *  The 5 identity blocks use three set of filters of size [256, 256, 1024], \"f\" is 3\n",
        "*   Stage 5:\n",
        "  *  The convolutional block uses three set of filters of size [512, 512, 2048], \"f\" is 3, \"s\" is 2\n",
        "  *  The 2 identity blocks use three set of filters of size [512, 512, 2048], \"f\" is 3 \n",
        "*   The 2D Average Pooling uses a window of shape (2,2) and its name is \"avg_pool\".\n",
        "*   The flatten doesn't have any hyperparameters or name.\n",
        "*   The Fully Connected (Dense) layer reduces its input to the number of classes using a softmax activation."
      ]
    },
    {
      "cell_type": "code",
      "metadata": {
        "id": "SRBnlS7tjTvG",
        "colab_type": "code",
        "outputId": "1867183a-b75b-4a09-f9ba-a7db184dc162",
        "colab": {
          "base_uri": "https://localhost:8080/",
          "height": 34
        }
      },
      "source": [
        "class Resnet(nn.Module):\n",
        "  \"\"\"\n",
        "  \n",
        "  This takes in the images shape and the number of output classes.\n",
        "  The images shape must be a tuple of the following format: (m, n_c, height, width)\n",
        "  where M -> batch size\n",
        "        n_c -> number of channels\n",
        "        height -> image height in pixels\n",
        "        width -> image width in pixels\n",
        "  \n",
        "  The input for the CIFAR images will be: (m, 3, 32, 32)\n",
        "  Output of pooling = ((i-f)/s) + 1\n",
        "  \"\"\"\n",
        "  def __init__(self,in_shape, num_classes):\n",
        "    super(Resnet, self).__init__()\n",
        "    \n",
        "    if len(in_shape) == 4:\n",
        "      in_channels = in_shape[1]\n",
        "    else:\n",
        "      in_channels = in_shape[0]\n",
        "    \n",
        "    self.relu = nn.ReLU()\n",
        "    \n",
        "    self.initial_zero_pad = nn.ZeroPad2d((3,3)) # Output= (32,32)\n",
        "    \n",
        "    # Stage 1\n",
        "    self.conv1 = nn.Conv2d(in_channels, out_channels=64, kernel_size=(7,7),\n",
        "                          stride=(2,2), padding=0) # Output -> (16,16,64)\n",
        "    self.batch_norm1 = nn.BatchNorm2d(64)\n",
        "    self.max_pool_1 = nn.MaxPool2d(kernel_size=(3,3), stride=(2,2)) # Output->(7,7)\n",
        "    # Output channels = 64\n",
        "    \n",
        "    # Stage 2\n",
        "    self.conv_block_2_1 = ConvolutionalBlock(f=3, filters=[64, 64, 256], in_channels=64, stride=2) # Output -> (4, 4, 256)\n",
        "    self.id_block_2_1 = IdentityBlock(f=3, filters=[64, 64, 256], in_channels=256) # Output -> (4, 4, 256)\n",
        "    self.id_block_2_2 = IdentityBlock(f=3, filters=[64, 64, 256], in_channels=256) # Output -> (4, 4, 256)\n",
        "    # Output channels = 256\n",
        "    \n",
        "    # Stage 3\n",
        "    self.conv_block_3_1 = ConvolutionalBlock(f=3, filters=[128,128,512], in_channels=256, stride=2) # Output -> (512, 2, 2)\n",
        "    self.id_block_3_1 = IdentityBlock(f=3, filters=[128,128,512], in_channels=512) # Output -> (512, 2, 2)\n",
        "    self.id_block_3_2 = IdentityBlock(f=3, filters=[128,128,512], in_channels=512) # Output -> (512, 2, 2)\n",
        "    self.id_block_3_3 = IdentityBlock(f=3, filters=[128,128,512], in_channels=512) # Output -> (512, 2, 2)\n",
        "    # Output channels = 512\n",
        "    \n",
        "    # Stage 4\n",
        "    self.conv_block_4_1 = ConvolutionalBlock(f=3, filters=[256, 256, 1024], in_channels=512, stride=2) # Output -> (1024, 1, 1)\n",
        "    self.id_block_4_1 = IdentityBlock(f=3, filters=[256, 256, 1024], in_channels=1024) # Output -> (1024, 1, 1)\n",
        "    self.id_block_4_2 = IdentityBlock(f=3, filters=[256, 256, 1024], in_channels=1024) # Output -> (1024, 1, 1)\n",
        "    self.id_block_4_3 = IdentityBlock(f=3, filters=[256, 256, 1024], in_channels=1024) # Output -> (1024, 1, 1)\n",
        "    self.id_block_4_4 = IdentityBlock(f=3, filters=[256, 256, 1024], in_channels=1024) # Output -> (1024, 1, 1)\n",
        "    self.id_block_4_5 = IdentityBlock(f=3, filters=[256, 256, 1024], in_channels=1024) # Output -> (1024, 1, 1)\n",
        "    # Output channels = 1024\n",
        "    \n",
        "    # Stage 5\n",
        "    self.conv_block_5_1 = ConvolutionalBlock(f=3, filters=[512, 512, 2048], in_channels=1024, stride=2) # Output -> (2048, 1, 1)\n",
        "    self.id_block_5_1 = IdentityBlock(f=3, filters=[512, 512, 2048], in_channels=2048) # Output -> (2048, 1, 1)\n",
        "    self.id_block_5_2 = IdentityBlock(f=3, filters=[512, 512, 2048], in_channels=2048) # Output -> (2048, 1, 1)\n",
        "    \n",
        "    self.avg_pool = nn.AvgPool2d(kernel_size=(2,2), padding=(0, 0))\n",
        "    \n",
        "    # Fully connected layers after flattening\n",
        "    self.fc1 = nn.Linear(2048, 512)\n",
        "    self.fc2 = nn.Linear(512, 64)\n",
        "    self.fc3 = nn.Linear(64, 10)\n",
        "    self.dropout = nn.Dropout(p=0.3)\n",
        "    \n",
        "  def forward(self, X):\n",
        "    \n",
        "    X = self.initial_zero_pad(X)\n",
        "    \n",
        "    X = self.conv1(X)\n",
        "    X = self.batch_norm1(X)\n",
        "    X = self.max_pool_1(X)\n",
        "    \n",
        "    X = self.conv_block_2_1.layer(X)\n",
        "    X = self.id_block_2_1.layer(X)\n",
        "    X = self.id_block_2_2.layer(X)\n",
        "    \n",
        "    X = self.conv_block_3_1.layer(X)\n",
        "    X = self.id_block_3_1.layer(X)\n",
        "    X = self.id_block_3_2.layer(X)\n",
        "    X = self.id_block_3_3.layer(X)\n",
        "    \n",
        "    X = self.conv_block_4_1.layer(X)\n",
        "    X = self.id_block_4_1.layer(X)\n",
        "    X = self.id_block_4_2.layer(X)\n",
        "    X = self.id_block_4_3.layer(X)\n",
        "    X = self.id_block_4_4.layer(X)\n",
        "    X = self.id_block_4_5.layer(X)\n",
        "    \n",
        "    X = self.conv_block_5_1.layer(X)\n",
        "    X = self.id_block_5_1.layer(X)\n",
        "    X = self.id_block_5_2.layer(X)\n",
        "    \n",
        "    X = self.avg_pool(X)\n",
        "    \n",
        "    \n",
        "    X = X.view(X.shape[0], -1)\n",
        "    \n",
        "    X = self.dropout(F.relu(self.fc1(X)))\n",
        "    X = self.dropout(F.relu(self.fc2(X)))\n",
        "    \n",
        "    return self.fc3(X)\n",
        "    \n",
        "    \n",
        "resnet = Resnet((64, 3, 32,32),5)\n",
        "image = torch.randn((64, 3, 32,32))\n",
        "output = resnet(image)\n",
        "print(output.shape)"
      ],
      "execution_count": 0,
      "outputs": [
        {
          "output_type": "stream",
          "text": [
            "torch.Size([64, 10])\n"
          ],
          "name": "stdout"
        }
      ]
    },
    {
      "cell_type": "markdown",
      "metadata": {
        "id": "fd5XOCHYLjsV",
        "colab_type": "text"
      },
      "source": [
        "###Instantiate the model and define loss and optimizer"
      ]
    },
    {
      "cell_type": "code",
      "metadata": {
        "id": "LdP_gzFzt5Ks",
        "colab_type": "code",
        "colab": {}
      },
      "source": [
        "import torch.optim as optim\n",
        "\n",
        "model = Resnet((batch_size, 1, 28, 28), len(classes)).to(device)\n",
        "criterion = nn.CrossEntropyLoss()\n",
        "optimizer = optim.Adam(model.parameters())"
      ],
      "execution_count": 0,
      "outputs": []
    },
    {
      "cell_type": "markdown",
      "metadata": {
        "id": "Fz2Mxkr7MQm1",
        "colab_type": "text"
      },
      "source": [
        "###Train the model"
      ]
    },
    {
      "cell_type": "code",
      "metadata": {
        "id": "yyL0DNr8_Lt5",
        "colab_type": "code",
        "outputId": "befcdd42-5cea-4c35-a805-fafdc7591307",
        "colab": {
          "base_uri": "https://localhost:8080/",
          "height": 884
        }
      },
      "source": [
        "epochs = 50\n",
        "steps = 0\n",
        "train_loss = []\n",
        "validation_loss = []\n",
        "validation_acc = []\n",
        "\n",
        "running_loss = 0\n",
        "print_every = 1000\n",
        "\n",
        "for epoch in range(epochs):\n",
        "  \n",
        "  for inputs, labels in trainloader:\n",
        "    steps += 1 \n",
        "    inputs, labels = inputs.to(device), labels.to(device)\n",
        "    \n",
        "    optimizer.zero_grad()\n",
        "    \n",
        "    logps = model(inputs)\n",
        "    loss = criterion(logps, labels)\n",
        "    loss.backward()\n",
        "    optimizer.step()\n",
        "    \n",
        "    running_loss += loss.item()\n",
        "    \n",
        "  else:\n",
        "    test_loss = 0\n",
        "    accuracy = 0\n",
        "    model.eval()\n",
        "    with torch.no_grad():\n",
        "      for inputs, labels in testloader:\n",
        "        inputs, labels = inputs.to(device), labels.to(device)\n",
        "        logps = model(inputs)\n",
        "        batch_loss = criterion(logps, labels)\n",
        "        \n",
        "        test_loss += batch_loss.item()\n",
        "         \n",
        "        # Calculate accuracy\n",
        "        ps = torch.exp(logps)\n",
        "        top_p, top_class = ps.topk(1, dim=1)\n",
        "        equals = top_class == labels.view(*top_class.shape)\n",
        "        accuracy += torch.mean(equals.type(torch.FloatTensor)).item()\n",
        "          \n",
        "      print(f\"Epoch {epoch+1}/{epochs}.. \"\n",
        "            f\"Train loss: {running_loss/len(trainloader):.8f}.. \"\n",
        "            f\"Test loss: {test_loss/len(testloader):.8f}.. \"\n",
        "            f\"Test accuracy: {accuracy/len(testloader):.8f}\")\n",
        "      train_loss.append(running_loss/len(trainloader))\n",
        "      validation_loss.append(test_loss/len(testloader))\n",
        "      validation_acc.append(accuracy/(len(testloader)))\n",
        "      running_loss = 0\n",
        "      model.train()\n",
        "    \n",
        "#     if steps % print_every == 0:\n",
        "#       test_loss = 0\n",
        "#       accuracy = 0\n",
        "#       model.eval()\n",
        "#       with torch.no_grad():\n",
        "#         for inputs, labels in testloader:\n",
        "#           inputs, labels = inputs.to(device), labels.to(device)\n",
        "#           logps = model(inputs)\n",
        "#           batch_loss = criterion(logps, labels)\n",
        "          \n",
        "#           test_loss += batch_loss.item()\n",
        "          \n",
        "#           # Calculate accuracy\n",
        "#           ps = torch.exp(logps)\n",
        "#           top_p, top_class = ps.topk(1, dim=1)\n",
        "#           equals = top_class == labels.view(*top_class.shape)\n",
        "#           accuracy += torch.mean(equals.type(torch.FloatTensor)).item()\n",
        "          \n",
        "#         print(f\"Epoch {epoch+1}/{epochs}.. \"\n",
        "#               f\"Train loss: {running_loss/print_every:.8f}.. \"\n",
        "#               f\"Test loss: {test_loss/len(testloader):.8f}.. \"\n",
        "#               f\"Test accuracy: {accuracy/len(testloader):.8f}\")\n",
        "#         train_loss.append(running_loss/print_every)\n",
        "#         validation_loss.append(test_loss/len(testloader))\n",
        "#         validation_acc.append(accuracy/(len(testloader)))\n",
        "#         running_loss = 0\n",
        "#         model.train()\n",
        "      \n",
        "print('Training Finished')"
      ],
      "execution_count": 0,
      "outputs": [
        {
          "output_type": "stream",
          "text": [
            "Epoch 1/50.. Train loss: 0.37330222.. Test loss: 0.11940069.. Test accuracy: 0.97163615\n",
            "Epoch 2/50.. Train loss: 0.15859702.. Test loss: 0.10415028.. Test accuracy: 0.97312898\n",
            "Epoch 3/50.. Train loss: 0.11836664.. Test loss: 0.05764533.. Test accuracy: 0.98497213\n",
            "Epoch 4/50.. Train loss: 0.09374066.. Test loss: 0.06896163.. Test accuracy: 0.98298169\n",
            "Epoch 5/50.. Train loss: 0.07886641.. Test loss: 0.07045114.. Test accuracy: 0.98318073\n",
            "Epoch 6/50.. Train loss: 0.08352558.. Test loss: 0.05875971.. Test accuracy: 0.98527070\n",
            "Epoch 7/50.. Train loss: 0.06888367.. Test loss: 0.05503811.. Test accuracy: 0.98556927\n",
            "Epoch 8/50.. Train loss: 0.06968852.. Test loss: 0.06089531.. Test accuracy: 0.98507166\n",
            "Epoch 9/50.. Train loss: 0.05268118.. Test loss: 0.05384055.. Test accuracy: 0.98746019\n",
            "Epoch 10/50.. Train loss: 0.05158654.. Test loss: 0.06794481.. Test accuracy: 0.98397691\n",
            "Epoch 11/50.. Train loss: 0.04483343.. Test loss: 0.04704377.. Test accuracy: 0.98835589\n",
            "Epoch 12/50.. Train loss: 0.04905183.. Test loss: 0.05774958.. Test accuracy: 0.98656449\n",
            "Epoch 13/50.. Train loss: 0.03477854.. Test loss: 0.06459045.. Test accuracy: 0.98676354\n",
            "Epoch 14/50.. Train loss: 0.03603451.. Test loss: 0.06775909.. Test accuracy: 0.98576831\n",
            "Epoch 15/50.. Train loss: 0.04489940.. Test loss: 0.07221968.. Test accuracy: 0.98377787\n",
            "Epoch 16/50.. Train loss: 0.04938372.. Test loss: 0.05754776.. Test accuracy: 0.98626592\n",
            "Epoch 17/50.. Train loss: 0.03223692.. Test loss: 0.04610469.. Test accuracy: 0.98964968\n",
            "Epoch 18/50.. Train loss: 0.02588388.. Test loss: 0.04638458.. Test accuracy: 0.99034634\n",
            "Epoch 19/50.. Train loss: 0.03106339.. Test loss: 0.15672086.. Test accuracy: 0.97083997\n",
            "Epoch 20/50.. Train loss: 0.03202696.. Test loss: 0.05254590.. Test accuracy: 0.98815685\n",
            "Epoch 21/50.. Train loss: 0.03039754.. Test loss: 0.04907069.. Test accuracy: 0.98905255\n",
            "Epoch 22/50.. Train loss: 0.02127990.. Test loss: 0.05421695.. Test accuracy: 0.98865446\n",
            "Epoch 23/50.. Train loss: 0.02012210.. Test loss: 0.05444336.. Test accuracy: 0.98905255\n",
            "Epoch 24/50.. Train loss: 0.03224453.. Test loss: 0.04998857.. Test accuracy: 0.98974920\n",
            "Epoch 25/50.. Train loss: 0.03172564.. Test loss: 0.05645788.. Test accuracy: 0.98865446\n",
            "Epoch 26/50.. Train loss: 0.03926288.. Test loss: 0.05428459.. Test accuracy: 0.98795780\n",
            "Epoch 27/50.. Train loss: 0.03686431.. Test loss: 0.05224599.. Test accuracy: 0.98925159\n",
            "Epoch 28/50.. Train loss: 0.01658611.. Test loss: 0.04746649.. Test accuracy: 0.99044586\n",
            "Epoch 29/50.. Train loss: 0.01943314.. Test loss: 0.04900284.. Test accuracy: 0.99014729\n",
            "Epoch 30/50.. Train loss: 0.02341416.. Test loss: 0.04831238.. Test accuracy: 0.98915207\n",
            "Epoch 31/50.. Train loss: 0.01595746.. Test loss: 0.05296302.. Test accuracy: 0.98955016\n",
            "Epoch 32/50.. Train loss: 0.01667055.. Test loss: 0.05389072.. Test accuracy: 0.99044586\n",
            "Epoch 33/50.. Train loss: 0.03193495.. Test loss: 0.05699378.. Test accuracy: 0.98994825\n",
            "Epoch 34/50.. Train loss: 0.01221821.. Test loss: 0.05500424.. Test accuracy: 0.99084395\n",
            "Epoch 35/50.. Train loss: 0.01376158.. Test loss: 0.04623725.. Test accuracy: 0.99104299\n",
            "Epoch 36/50.. Train loss: 0.03065298.. Test loss: 0.04841412.. Test accuracy: 0.99144108\n",
            "Epoch 37/50.. Train loss: 0.01371534.. Test loss: 0.07593041.. Test accuracy: 0.98775876\n",
            "Epoch 38/50.. Train loss: 0.01979997.. Test loss: 0.05398490.. Test accuracy: 0.98865446\n",
            "Epoch 39/50.. Train loss: 0.01707924.. Test loss: 0.04200512.. Test accuracy: 0.99044586\n",
            "Epoch 40/50.. Train loss: 0.02176013.. Test loss: 0.06185945.. Test accuracy: 0.98984873\n",
            "Epoch 41/50.. Train loss: 0.02270435.. Test loss: 0.05409248.. Test accuracy: 0.98865446\n",
            "Epoch 42/50.. Train loss: 0.01518367.. Test loss: 0.06867540.. Test accuracy: 0.98487261\n",
            "Epoch 43/50.. Train loss: 0.01120023.. Test loss: 0.05139795.. Test accuracy: 0.98865446\n",
            "Epoch 44/50.. Train loss: 0.01140976.. Test loss: 0.05984495.. Test accuracy: 0.98875398\n",
            "Epoch 45/50.. Train loss: 0.00934421.. Test loss: 0.04947598.. Test accuracy: 0.99024682\n",
            "Epoch 46/50.. Train loss: 0.01391190.. Test loss: 0.04735420.. Test accuracy: 0.99124204\n",
            "Epoch 47/50.. Train loss: 0.01472729.. Test loss: 0.08110112.. Test accuracy: 0.98805732\n",
            "Epoch 48/50.. Train loss: 0.02634408.. Test loss: 0.06192679.. Test accuracy: 0.98875398\n",
            "Epoch 49/50.. Train loss: 0.01764610.. Test loss: 0.04855057.. Test accuracy: 0.99044586\n",
            "Epoch 50/50.. Train loss: 0.01020846.. Test loss: 0.05756740.. Test accuracy: 0.99134156\n",
            "Training Finished\n"
          ],
          "name": "stdout"
        }
      ]
    },
    {
      "cell_type": "code",
      "metadata": {
        "id": "HYV5ByT0NnqT",
        "colab_type": "code",
        "outputId": "a11cf00a-b80d-4c24-91f1-8255c04255c7",
        "colab": {
          "base_uri": "https://localhost:8080/",
          "height": 312
        }
      },
      "source": [
        "# Plot the training losses.\n",
        "plt.plot(train_loss, color='r')\n",
        "plt.xlabel('Epochs')\n",
        "plt.ylabel('Loss')\n",
        "plt.title('Training Losses')"
      ],
      "execution_count": 0,
      "outputs": [
        {
          "output_type": "execute_result",
          "data": {
            "text/plain": [
              "Text(0.5, 1.0, 'Training Losses')"
            ]
          },
          "metadata": {
            "tags": []
          },
          "execution_count": 13
        },
        {
          "output_type": "display_data",
          "data": {
            "image/png": "[encoded data removed]",
            "text/plain": [
              "<Figure size 432x288 with 1 Axes>"
            ]
          },
          "metadata": {
            "tags": []
          }
        }
      ]
    },
    {
      "cell_type": "code",
      "metadata": {
        "id": "qJk-6X3X6Eik",
        "colab_type": "code",
        "outputId": "999092e8-74d4-42d0-c182-037538d48dac",
        "colab": {
          "base_uri": "https://localhost:8080/",
          "height": 312
        }
      },
      "source": [
        "# Plot Validation losses\n",
        "\n",
        "plt.plot(validation_loss, color='r')\n",
        "plt.xlabel('Epochs')\n",
        "plt.ylabel('Loss')\n",
        "plt.title('Validation Losses')"
      ],
      "execution_count": 0,
      "outputs": [
        {
          "output_type": "execute_result",
          "data": {
            "text/plain": [
              "Text(0.5, 1.0, 'Validation Losses')"
            ]
          },
          "metadata": {
            "tags": []
          },
          "execution_count": 14
        },
        {
          "output_type": "display_data",
          "data": {
            "image/png": "[encoded data removed]",
            "text/plain": [
              "<Figure size 432x288 with 1 Axes>"
            ]
          },
          "metadata": {
            "tags": []
          }
        }
      ]
    },
    {
      "cell_type": "code",
      "metadata": {
        "id": "4-IqDfOH6QvH",
        "colab_type": "code",
        "outputId": "db3a2048-6b74-4b9a-adec-2a81a4ba01d7",
        "colab": {
          "base_uri": "https://localhost:8080/",
          "height": 312
        }
      },
      "source": [
        "# Plot the validation accuracy\n",
        "plt.plot(validation_acc, color='r')\n",
        "plt.xlabel('Epochs')\n",
        "plt.ylabel('Accuracy')\n",
        "plt.title('Validation Accuracy')"
      ],
      "execution_count": 0,
      "outputs": [
        {
          "output_type": "execute_result",
          "data": {
            "text/plain": [
              "Text(0.5, 1.0, 'Validation Accuracy')"
            ]
          },
          "metadata": {
            "tags": []
          },
          "execution_count": 15
        },
        {
          "output_type": "display_data",
          "data": {
            "image/png": "[encoded data removed]",
            "text/plain": [
              "<Figure size 432x288 with 1 Axes>"
            ]
          },
          "metadata": {
            "tags": []
          }
        }
      ]
    },
    {
      "cell_type": "code",
      "metadata": {
        "id": "WUJwgziY6R_o",
        "colab_type": "code",
        "outputId": "32e34dfe-c9a7-4edf-e79d-2dbc8da2cd2d",
        "colab": {
          "base_uri": "https://localhost:8080/",
          "height": 122
        }
      },
      "source": [
        "from google.colab import drive\n",
        "drive.mount('/content/gdrive')"
      ],
      "execution_count": 0,
      "outputs": [
        {
          "output_type": "stream",
          "text": [
            "Go to this URL in a browser: https://accounts.google.com/o/oauth2/auth?client_id=947318989803-6bn6qk8qdgf4n4g3pfee6491hc0brc4i.apps.googleusercontent.com&redirect_uri=urn%3Aietf%3Awg%3Aoauth%3A2.0%3Aoob&scope=email%20https%3A%2F%2Fwww.googleapis.com%2Fauth%2Fdocs.test%20https%3A%2F%2Fwww.googleapis.com%2Fauth%2Fdrive%20https%3A%2F%2Fwww.googleapis.com%2Fauth%2Fdrive.photos.readonly%20https%3A%2F%2Fwww.googleapis.com%2Fauth%2Fpeopleapi.readonly&response_type=code\n",
            "\n",
            "Enter your authorization code:\n",
            "··········\n",
            "Mounted at /content/gdrive\n"
          ],
          "name": "stdout"
        }
      ]
    },
    {
      "cell_type": "code",
      "metadata": {
        "id": "Ll_adMTr7PKq",
        "colab_type": "code",
        "colab": {}
      },
      "source": [
        "import os\n",
        "os.listdir('gdrive/My Drive/Machine Learning Models/')\n",
        "# For MNIST\n",
        "torch.save(model.state_dict(), 'gdrive/My Drive/Machine Learning Models/resnet_50_mnist_10_epochs.pth')\n",
        "# torch.save({'epochs': 10,\n",
        "#             'model_state_dict': model.state_dict(),\n",
        "#            'optimizer_state_dict': optimizer.state_dict()},'gdrive/My Drive/Machine Learning Models/resnet_50_mnist_10_epochs.pth')\n",
        "# FOr CIFAR-10\n",
        "# torch.save({'epochs': 50,\n",
        "#             'model_state_dict': model.state_dict(),\n",
        "#            'optimizer_state_dict': optimizer.state_dict()},'gdrive/My Drive/Machine Learning Models/resnet_50_cifar_ten__10_epochs.pth')"
      ],
      "execution_count": 0,
      "outputs": []
    },
    {
      "cell_type": "code",
      "metadata": {
        "id": "xF7suMhZ7cLZ",
        "colab_type": "code",
        "outputId": "f8984522-02a5-47f3-c2d6-d1cedfba8a23",
        "colab": {
          "base_uri": "https://localhost:8080/",
          "height": 34
        }
      },
      "source": [
        "os.listdir('gdrive/My Drive/Machine Learning Models/')"
      ],
      "execution_count": 0,
      "outputs": [
        {
          "output_type": "execute_result",
          "data": {
            "text/plain": [
              "['resnet_50_mnist_10_epochs.pth', 'resnet_50_cifar_ten__10_epochs.pth']"
            ]
          },
          "metadata": {
            "tags": []
          },
          "execution_count": 18
        }
      ]
    },
    {
      "cell_type": "markdown",
      "metadata": {
        "id": "3tkCdttYhGM-",
        "colab_type": "text"
      },
      "source": [
        "## Load pretrained model"
      ]
    },
    {
      "cell_type": "code",
      "metadata": {
        "id": "bMteeL_nhE54",
        "colab_type": "code",
        "outputId": "e34a145b-9a10-491d-886c-e217f68cd846",
        "colab": {
          "base_uri": "https://localhost:8080/",
          "height": 1000
        }
      },
      "source": [
        "# For MNIST \n",
        "# checkpoint = torch.load('gdrive/My Drive/Machine Learning Models/resnet_50_mnist_10_epochs.pth')\n",
        "model = Resnet((batch_size, 1, 28, 28), len(classes)).to(device)\n",
        "model.load_state_dict(torch.load('gdrive/My Drive/Machine Learning Models/resnet_50_mnist_10_epochs.pth'))\n",
        "\n",
        "# FOr CIFAR-10\n",
        "# checkpoint = torch.load('gdrive/My Drive/Machine Learning Models/resnet_50_cifar_ten__10_epochs.pth')\n",
        "# model.load_state_dict(checkpoint['model_state_dict'])\n",
        "\n",
        "print(model)"
      ],
      "execution_count": 0,
      "outputs": [
        {
          "output_type": "stream",
          "text": [
            "Resnet(\n",
            "  (relu): ReLU()\n",
            "  (initial_zero_pad): ZeroPad2d(padding=(3, 3), value=0.0)\n",
            "  (conv1): Conv2d(1, 64, kernel_size=(7, 7), stride=(2, 2))\n",
            "  (batch_norm1): BatchNorm2d(64, eps=1e-05, momentum=0.1, affine=True, track_running_stats=True)\n",
            "  (max_pool_1): MaxPool2d(kernel_size=(3, 3), stride=(2, 2), padding=0, dilation=1, ceil_mode=False)\n",
            "  (conv_block_2_1): ConvolutionalBlock(\n",
            "    (conv1): Conv2d(64, 64, kernel_size=(1, 1), stride=(2, 2))\n",
            "    (batch_norm1): BatchNorm2d(64, eps=1e-05, momentum=0.1, affine=True, track_running_stats=True)\n",
            "    (conv2): Conv2d(64, 64, kernel_size=(3, 3), stride=(1, 1), padding=(1, 1))\n",
            "    (batch_norm2): BatchNorm2d(64, eps=1e-05, momentum=0.1, affine=True, track_running_stats=True)\n",
            "    (conv3): Conv2d(64, 256, kernel_size=(1, 1), stride=(1, 1))\n",
            "    (batch_norm3): BatchNorm2d(256, eps=1e-05, momentum=0.1, affine=True, track_running_stats=True)\n",
            "    (conv_shortcut): Conv2d(64, 256, kernel_size=(1, 1), stride=(2, 2))\n",
            "    (batch_norm_shortcut): BatchNorm2d(256, eps=1e-05, momentum=0.1, affine=True, track_running_stats=True)\n",
            "    (relu): ReLU()\n",
            "  )\n",
            "  (id_block_2_1): IdentityBlock(\n",
            "    (conv1): Conv2d(256, 64, kernel_size=(1, 1), stride=(1, 1))\n",
            "    (batch_norm1): BatchNorm2d(64, eps=1e-05, momentum=0.1, affine=True, track_running_stats=True)\n",
            "    (conv2): Conv2d(64, 64, kernel_size=(3, 3), stride=(1, 1), padding=(1, 1))\n",
            "    (batch_norm2): BatchNorm2d(64, eps=1e-05, momentum=0.1, affine=True, track_running_stats=True)\n",
            "    (conv3): Conv2d(64, 256, kernel_size=(1, 1), stride=(1, 1))\n",
            "    (batch_norm3): BatchNorm2d(256, eps=1e-05, momentum=0.1, affine=True, track_running_stats=True)\n",
            "    (relu): ReLU()\n",
            "  )\n",
            "  (id_block_2_2): IdentityBlock(\n",
            "    (conv1): Conv2d(256, 64, kernel_size=(1, 1), stride=(1, 1))\n",
            "    (batch_norm1): BatchNorm2d(64, eps=1e-05, momentum=0.1, affine=True, track_running_stats=True)\n",
            "    (conv2): Conv2d(64, 64, kernel_size=(3, 3), stride=(1, 1), padding=(1, 1))\n",
            "    (batch_norm2): BatchNorm2d(64, eps=1e-05, momentum=0.1, affine=True, track_running_stats=True)\n",
            "    (conv3): Conv2d(64, 256, kernel_size=(1, 1), stride=(1, 1))\n",
            "    (batch_norm3): BatchNorm2d(256, eps=1e-05, momentum=0.1, affine=True, track_running_stats=True)\n",
            "    (relu): ReLU()\n",
            "  )\n",
            "  (conv_block_3_1): ConvolutionalBlock(\n",
            "    (conv1): Conv2d(256, 128, kernel_size=(1, 1), stride=(2, 2))\n",
            "    (batch_norm1): BatchNorm2d(128, eps=1e-05, momentum=0.1, affine=True, track_running_stats=True)\n",
            "    (conv2): Conv2d(128, 128, kernel_size=(3, 3), stride=(1, 1), padding=(1, 1))\n",
            "    (batch_norm2): BatchNorm2d(128, eps=1e-05, momentum=0.1, affine=True, track_running_stats=True)\n",
            "    (conv3): Conv2d(128, 512, kernel_size=(1, 1), stride=(1, 1))\n",
            "    (batch_norm3): BatchNorm2d(512, eps=1e-05, momentum=0.1, affine=True, track_running_stats=True)\n",
            "    (conv_shortcut): Conv2d(256, 512, kernel_size=(1, 1), stride=(2, 2))\n",
            "    (batch_norm_shortcut): BatchNorm2d(512, eps=1e-05, momentum=0.1, affine=True, track_running_stats=True)\n",
            "    (relu): ReLU()\n",
            "  )\n",
            "  (id_block_3_1): IdentityBlock(\n",
            "    (conv1): Conv2d(512, 128, kernel_size=(1, 1), stride=(1, 1))\n",
            "    (batch_norm1): BatchNorm2d(128, eps=1e-05, momentum=0.1, affine=True, track_running_stats=True)\n",
            "    (conv2): Conv2d(128, 128, kernel_size=(3, 3), stride=(1, 1), padding=(1, 1))\n",
            "    (batch_norm2): BatchNorm2d(128, eps=1e-05, momentum=0.1, affine=True, track_running_stats=True)\n",
            "    (conv3): Conv2d(128, 512, kernel_size=(1, 1), stride=(1, 1))\n",
            "    (batch_norm3): BatchNorm2d(512, eps=1e-05, momentum=0.1, affine=True, track_running_stats=True)\n",
            "    (relu): ReLU()\n",
            "  )\n",
            "  (id_block_3_2): IdentityBlock(\n",
            "    (conv1): Conv2d(512, 128, kernel_size=(1, 1), stride=(1, 1))\n",
            "    (batch_norm1): BatchNorm2d(128, eps=1e-05, momentum=0.1, affine=True, track_running_stats=True)\n",
            "    (conv2): Conv2d(128, 128, kernel_size=(3, 3), stride=(1, 1), padding=(1, 1))\n",
            "    (batch_norm2): BatchNorm2d(128, eps=1e-05, momentum=0.1, affine=True, track_running_stats=True)\n",
            "    (conv3): Conv2d(128, 512, kernel_size=(1, 1), stride=(1, 1))\n",
            "    (batch_norm3): BatchNorm2d(512, eps=1e-05, momentum=0.1, affine=True, track_running_stats=True)\n",
            "    (relu): ReLU()\n",
            "  )\n",
            "  (id_block_3_3): IdentityBlock(\n",
            "    (conv1): Conv2d(512, 128, kernel_size=(1, 1), stride=(1, 1))\n",
            "    (batch_norm1): BatchNorm2d(128, eps=1e-05, momentum=0.1, affine=True, track_running_stats=True)\n",
            "    (conv2): Conv2d(128, 128, kernel_size=(3, 3), stride=(1, 1), padding=(1, 1))\n",
            "    (batch_norm2): BatchNorm2d(128, eps=1e-05, momentum=0.1, affine=True, track_running_stats=True)\n",
            "    (conv3): Conv2d(128, 512, kernel_size=(1, 1), stride=(1, 1))\n",
            "    (batch_norm3): BatchNorm2d(512, eps=1e-05, momentum=0.1, affine=True, track_running_stats=True)\n",
            "    (relu): ReLU()\n",
            "  )\n",
            "  (conv_block_4_1): ConvolutionalBlock(\n",
            "    (conv1): Conv2d(512, 256, kernel_size=(1, 1), stride=(2, 2))\n",
            "    (batch_norm1): BatchNorm2d(256, eps=1e-05, momentum=0.1, affine=True, track_running_stats=True)\n",
            "    (conv2): Conv2d(256, 256, kernel_size=(3, 3), stride=(1, 1), padding=(1, 1))\n",
            "    (batch_norm2): BatchNorm2d(256, eps=1e-05, momentum=0.1, affine=True, track_running_stats=True)\n",
            "    (conv3): Conv2d(256, 1024, kernel_size=(1, 1), stride=(1, 1))\n",
            "    (batch_norm3): BatchNorm2d(1024, eps=1e-05, momentum=0.1, affine=True, track_running_stats=True)\n",
            "    (conv_shortcut): Conv2d(512, 1024, kernel_size=(1, 1), stride=(2, 2))\n",
            "    (batch_norm_shortcut): BatchNorm2d(1024, eps=1e-05, momentum=0.1, affine=True, track_running_stats=True)\n",
            "    (relu): ReLU()\n",
            "  )\n",
            "  (id_block_4_1): IdentityBlock(\n",
            "    (conv1): Conv2d(1024, 256, kernel_size=(1, 1), stride=(1, 1))\n",
            "    (batch_norm1): BatchNorm2d(256, eps=1e-05, momentum=0.1, affine=True, track_running_stats=True)\n",
            "    (conv2): Conv2d(256, 256, kernel_size=(3, 3), stride=(1, 1), padding=(1, 1))\n",
            "    (batch_norm2): BatchNorm2d(256, eps=1e-05, momentum=0.1, affine=True, track_running_stats=True)\n",
            "    (conv3): Conv2d(256, 1024, kernel_size=(1, 1), stride=(1, 1))\n",
            "    (batch_norm3): BatchNorm2d(1024, eps=1e-05, momentum=0.1, affine=True, track_running_stats=True)\n",
            "    (relu): ReLU()\n",
            "  )\n",
            "  (id_block_4_2): IdentityBlock(\n",
            "    (conv1): Conv2d(1024, 256, kernel_size=(1, 1), stride=(1, 1))\n",
            "    (batch_norm1): BatchNorm2d(256, eps=1e-05, momentum=0.1, affine=True, track_running_stats=True)\n",
            "    (conv2): Conv2d(256, 256, kernel_size=(3, 3), stride=(1, 1), padding=(1, 1))\n",
            "    (batch_norm2): BatchNorm2d(256, eps=1e-05, momentum=0.1, affine=True, track_running_stats=True)\n",
            "    (conv3): Conv2d(256, 1024, kernel_size=(1, 1), stride=(1, 1))\n",
            "    (batch_norm3): BatchNorm2d(1024, eps=1e-05, momentum=0.1, affine=True, track_running_stats=True)\n",
            "    (relu): ReLU()\n",
            "  )\n",
            "  (id_block_4_3): IdentityBlock(\n",
            "    (conv1): Conv2d(1024, 256, kernel_size=(1, 1), stride=(1, 1))\n",
            "    (batch_norm1): BatchNorm2d(256, eps=1e-05, momentum=0.1, affine=True, track_running_stats=True)\n",
            "    (conv2): Conv2d(256, 256, kernel_size=(3, 3), stride=(1, 1), padding=(1, 1))\n",
            "    (batch_norm2): BatchNorm2d(256, eps=1e-05, momentum=0.1, affine=True, track_running_stats=True)\n",
            "    (conv3): Conv2d(256, 1024, kernel_size=(1, 1), stride=(1, 1))\n",
            "    (batch_norm3): BatchNorm2d(1024, eps=1e-05, momentum=0.1, affine=True, track_running_stats=True)\n",
            "    (relu): ReLU()\n",
            "  )\n",
            "  (id_block_4_4): IdentityBlock(\n",
            "    (conv1): Conv2d(1024, 256, kernel_size=(1, 1), stride=(1, 1))\n",
            "    (batch_norm1): BatchNorm2d(256, eps=1e-05, momentum=0.1, affine=True, track_running_stats=True)\n",
            "    (conv2): Conv2d(256, 256, kernel_size=(3, 3), stride=(1, 1), padding=(1, 1))\n",
            "    (batch_norm2): BatchNorm2d(256, eps=1e-05, momentum=0.1, affine=True, track_running_stats=True)\n",
            "    (conv3): Conv2d(256, 1024, kernel_size=(1, 1), stride=(1, 1))\n",
            "    (batch_norm3): BatchNorm2d(1024, eps=1e-05, momentum=0.1, affine=True, track_running_stats=True)\n",
            "    (relu): ReLU()\n",
            "  )\n",
            "  (id_block_4_5): IdentityBlock(\n",
            "    (conv1): Conv2d(1024, 256, kernel_size=(1, 1), stride=(1, 1))\n",
            "    (batch_norm1): BatchNorm2d(256, eps=1e-05, momentum=0.1, affine=True, track_running_stats=True)\n",
            "    (conv2): Conv2d(256, 256, kernel_size=(3, 3), stride=(1, 1), padding=(1, 1))\n",
            "    (batch_norm2): BatchNorm2d(256, eps=1e-05, momentum=0.1, affine=True, track_running_stats=True)\n",
            "    (conv3): Conv2d(256, 1024, kernel_size=(1, 1), stride=(1, 1))\n",
            "    (batch_norm3): BatchNorm2d(1024, eps=1e-05, momentum=0.1, affine=True, track_running_stats=True)\n",
            "    (relu): ReLU()\n",
            "  )\n",
            "  (conv_block_5_1): ConvolutionalBlock(\n",
            "    (conv1): Conv2d(1024, 512, kernel_size=(1, 1), stride=(2, 2))\n",
            "    (batch_norm1): BatchNorm2d(512, eps=1e-05, momentum=0.1, affine=True, track_running_stats=True)\n",
            "    (conv2): Conv2d(512, 512, kernel_size=(3, 3), stride=(1, 1), padding=(1, 1))\n",
            "    (batch_norm2): BatchNorm2d(512, eps=1e-05, momentum=0.1, affine=True, track_running_stats=True)\n",
            "    (conv3): Conv2d(512, 2048, kernel_size=(1, 1), stride=(1, 1))\n",
            "    (batch_norm3): BatchNorm2d(2048, eps=1e-05, momentum=0.1, affine=True, track_running_stats=True)\n",
            "    (conv_shortcut): Conv2d(1024, 2048, kernel_size=(1, 1), stride=(2, 2))\n",
            "    (batch_norm_shortcut): BatchNorm2d(2048, eps=1e-05, momentum=0.1, affine=True, track_running_stats=True)\n",
            "    (relu): ReLU()\n",
            "  )\n",
            "  (id_block_5_1): IdentityBlock(\n",
            "    (conv1): Conv2d(2048, 512, kernel_size=(1, 1), stride=(1, 1))\n",
            "    (batch_norm1): BatchNorm2d(512, eps=1e-05, momentum=0.1, affine=True, track_running_stats=True)\n",
            "    (conv2): Conv2d(512, 512, kernel_size=(3, 3), stride=(1, 1), padding=(1, 1))\n",
            "    (batch_norm2): BatchNorm2d(512, eps=1e-05, momentum=0.1, affine=True, track_running_stats=True)\n",
            "    (conv3): Conv2d(512, 2048, kernel_size=(1, 1), stride=(1, 1))\n",
            "    (batch_norm3): BatchNorm2d(2048, eps=1e-05, momentum=0.1, affine=True, track_running_stats=True)\n",
            "    (relu): ReLU()\n",
            "  )\n",
            "  (id_block_5_2): IdentityBlock(\n",
            "    (conv1): Conv2d(2048, 512, kernel_size=(1, 1), stride=(1, 1))\n",
            "    (batch_norm1): BatchNorm2d(512, eps=1e-05, momentum=0.1, affine=True, track_running_stats=True)\n",
            "    (conv2): Conv2d(512, 512, kernel_size=(3, 3), stride=(1, 1), padding=(1, 1))\n",
            "    (batch_norm2): BatchNorm2d(512, eps=1e-05, momentum=0.1, affine=True, track_running_stats=True)\n",
            "    (conv3): Conv2d(512, 2048, kernel_size=(1, 1), stride=(1, 1))\n",
            "    (batch_norm3): BatchNorm2d(2048, eps=1e-05, momentum=0.1, affine=True, track_running_stats=True)\n",
            "    (relu): ReLU()\n",
            "  )\n",
            "  (avg_pool): AvgPool2d(kernel_size=(2, 2), stride=(2, 2), padding=(0, 0))\n",
            "  (fc1): Linear(in_features=2048, out_features=512, bias=True)\n",
            "  (fc2): Linear(in_features=512, out_features=64, bias=True)\n",
            "  (fc3): Linear(in_features=64, out_features=10, bias=True)\n",
            "  (dropout): Dropout(p=0.3)\n",
            ")\n"
          ],
          "name": "stdout"
        }
      ]
    },
    {
      "cell_type": "markdown",
      "metadata": {
        "id": "YNYPihtXh-QI",
        "colab_type": "text"
      },
      "source": [
        "## Test model on some images\n"
      ]
    },
    {
      "cell_type": "code",
      "metadata": {
        "id": "p0eZytMOhXfZ",
        "colab_type": "code",
        "outputId": "43e58b8a-9bc7-4904-cfb6-55e6524aab67",
        "colab": {
          "base_uri": "https://localhost:8080/",
          "height": 271
        }
      },
      "source": [
        "print(f'Plotting 10 random images from the test set and their corresponding labels...')\n",
        "dataiter = iter(testloader)\n",
        "images, labels = dataiter.next()\n",
        "\n",
        "f, axarr = plt.subplots(2, 5, sharex=True, sharey=True)\n",
        "\n",
        "model.eval()\n",
        "for i in range(2):\n",
        "  for j in range(5):\n",
        "    index = np.random.randint(0, 64)\n",
        "    axarr[i, j].imshow(im_show_process(images[index]))\n",
        "    output = model(images[index].view(1, images[index].shape[0], images[index].shape[2], images[index].shape[2]).to(device))\n",
        "    outptut = F.softmax(output, dim=1)\n",
        "    top_value, top_class = output.topk(1, dim=1)\n",
        "    axarr[i, j].set_xlabel('Predicted: ' + str(classes[top_class.item()]))\n",
        "    axarr[i, j].set_title('Actual: ' + str(classes[labels[index]]))"
      ],
      "execution_count": 0,
      "outputs": [
        {
          "output_type": "stream",
          "text": [
            "Plotting 10 random images from the test set and their corresponding labels...\n"
          ],
          "name": "stdout"
        },
        {
          "output_type": "display_data",
          "data": {
            "image/png": "[encoded data removed]",
            "text/plain": [
              "<Figure size 432x288 with 10 Axes>"
            ]
          },
          "metadata": {
            "tags": []
          }
        }
      ]
    },
    {
      "cell_type": "code",
      "metadata": {
        "id": "_OfGBY42iatL",
        "colab_type": "code",
        "colab": {}
      },
      "source": [
        ""
      ],
      "execution_count": 0,
      "outputs": []
    }
  ]
}