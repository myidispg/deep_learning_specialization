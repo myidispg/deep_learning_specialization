{
  "nbformat": 4,
  "nbformat_minor": 0,
  "metadata": {
    "colab": {
      "name": "PyTorch ResNet.ipynb",
      "version": "0.3.2",
      "provenance": [],
      "collapsed_sections": [],
      "include_colab_link": true
    },
    "kernelspec": {
      "name": "python3",
      "display_name": "Python 3"
    },
    "accelerator": "GPU"
  },
  "cells": [
    {
      "cell_type": "markdown",
      "metadata": {
        "id": "view-in-github",
        "colab_type": "text"
      },
      "source": [
        "<a href=\"https://colab.research.google.com/github/myidispg/deep_learning_specialization/blob/master/CNN/Week%202/PyTorch_ResNet.ipynb\" target=\"_parent\"><img src=\"https://colab.research.google.com/assets/colab-badge.svg\" alt=\"Open In Colab\"/></a>"
      ]
    },
    {
      "cell_type": "code",
      "metadata": {
        "id": "PBRv6GLzCGfI",
        "colab_type": "code",
        "outputId": "2ad1af54-0ccb-41fe-a882-f9dac6cd30eb",
        "colab": {
          "base_uri": "https://localhost:8080/",
          "height": 34
        }
      },
      "source": [
        "import torch\n",
        "import torchvision\n",
        "import torchvision.transforms as transforms\n",
        "\n",
        "import numpy as np\n",
        "import pandas as pd\n",
        "\n",
        "import matplotlib.pyplot as plt\n",
        "%matplotlib inline\n",
        "\n",
        "data_dir = './data'\n",
        "batch_size = 64\n",
        "device = torch.device('cuda' if torch.cuda.is_available() else 'cpu')\n",
        "device"
      ],
      "execution_count": 1,
      "outputs": [
        {
          "output_type": "execute_result",
          "data": {
            "text/plain": [
              "device(type='cuda')"
            ]
          },
          "metadata": {
            "tags": []
          },
          "execution_count": 1
        }
      ]
    },
    {
      "cell_type": "code",
      "metadata": {
        "id": "YJ7cKGaqCRvr",
        "colab_type": "code",
        "outputId": "11403a1c-a69f-4cd4-f161-dcfb6d347868",
        "colab": {
          "base_uri": "https://localhost:8080/",
          "height": 272
        }
      },
      "source": [
        "transform = transforms.Compose([transforms.ToTensor(),\n",
        "                               transforms.Normalize((0.5), (0.5))])\n",
        "\n",
        "trainset = torchvision.datasets.MNIST('/files/', train=True, download=True, \n",
        "                                      transform=transforms)\n",
        "trainloader = torch.utils.data.DataLoader(trainset, batch_size=batch_size,\n",
        "                                          shuffle=True, num_workers=2)\n",
        "\n",
        "testset = torchvision.datasets.MNIST('/files/', train=False, download=True,\n",
        "                                      transform=transforms)\n",
        "testloader = torch.utils.data.DataLoader(testset, batch_size=batch_size,\n",
        "                                         shuffle=True, num_workers=2)\n",
        "\n",
        "trainloader = torch.utils.data.DataLoader(\n",
        "  torchvision.datasets.MNIST('/files/', train=True, download=True,\n",
        "                             transform=torchvision.transforms.Compose([\n",
        "                               torchvision.transforms.ToTensor(),\n",
        "                               torchvision.transforms.Normalize(\n",
        "                                 (0.1307,), (0.3081,))\n",
        "                             ])),\n",
        "  batch_size=batch_size, shuffle=True)\n",
        "\n",
        "testloader = torch.utils.data.DataLoader(\n",
        "  torchvision.datasets.MNIST('/files/', train=False, download=True,\n",
        "                             transform=torchvision.transforms.Compose([\n",
        "                               torchvision.transforms.ToTensor(),\n",
        "                               torchvision.transforms.Normalize(\n",
        "                                 (0.1307,), (0.3081,))\n",
        "                             ])),\n",
        "  batch_size=batch_size, shuffle=True)\n",
        "\n",
        "classes = ['plane', 'car', 'bird', 'cat', 'deer', 'dog', 'frog', 'horse', 'ship', 'truck']\n",
        "classes = [0, 1, 2, 3, 4, 5, 6, 7, 8, 9]\n",
        "\n",
        "print(len(trainloader.dataset))"
      ],
      "execution_count": 2,
      "outputs": [
        {
          "output_type": "stream",
          "text": [
            "\r0it [00:00, ?it/s]"
          ],
          "name": "stderr"
        },
        {
          "output_type": "stream",
          "text": [
            "Downloading http://yann.lecun.com/exdb/mnist/train-images-idx3-ubyte.gz to /files/MNIST/raw/train-images-idx3-ubyte.gz\n"
          ],
          "name": "stdout"
        },
        {
          "output_type": "stream",
          "text": [
            "9920512it [00:01, 6741708.55it/s]                             \n"
          ],
          "name": "stderr"
        },
        {
          "output_type": "stream",
          "text": [
            "Extracting /files/MNIST/raw/train-images-idx3-ubyte.gz\n"
          ],
          "name": "stdout"
        },
        {
          "output_type": "stream",
          "text": [
            "32768it [00:00, 333283.10it/s]\n",
            "0it [00:00, ?it/s]"
          ],
          "name": "stderr"
        },
        {
          "output_type": "stream",
          "text": [
            "Downloading http://yann.lecun.com/exdb/mnist/train-labels-idx1-ubyte.gz to /files/MNIST/raw/train-labels-idx1-ubyte.gz\n",
            "Extracting /files/MNIST/raw/train-labels-idx1-ubyte.gz\n",
            "Downloading http://yann.lecun.com/exdb/mnist/t10k-images-idx3-ubyte.gz to /files/MNIST/raw/t10k-images-idx3-ubyte.gz\n"
          ],
          "name": "stdout"
        },
        {
          "output_type": "stream",
          "text": [
            "1654784it [00:00, 5280692.14it/s]                           \n",
            "8192it [00:00, 130929.16it/s]\n"
          ],
          "name": "stderr"
        },
        {
          "output_type": "stream",
          "text": [
            "Extracting /files/MNIST/raw/t10k-images-idx3-ubyte.gz\n",
            "Downloading http://yann.lecun.com/exdb/mnist/t10k-labels-idx1-ubyte.gz to /files/MNIST/raw/t10k-labels-idx1-ubyte.gz\n",
            "Extracting /files/MNIST/raw/t10k-labels-idx1-ubyte.gz\n",
            "Processing...\n",
            "Done!\n",
            "60000\n"
          ],
          "name": "stdout"
        }
      ]
    },
    {
      "cell_type": "markdown",
      "metadata": {
        "id": "w4Kyg-HJHrfL",
        "colab_type": "text"
      },
      "source": [
        "# Plotting some images from both the train and test set"
      ]
    },
    {
      "cell_type": "code",
      "metadata": {
        "id": "FilEufQ7HJHT",
        "colab_type": "code",
        "outputId": "abefe441-11b9-45bc-a8ea-c7fa3344f5b9",
        "colab": {
          "base_uri": "https://localhost:8080/",
          "height": 257
        }
      },
      "source": [
        "# To unnormalize the image and put channel after the image height and width.\n",
        "def im_show_process(img):\n",
        "  img = (img / 2) + 0.5 # Unnormalize the image\n",
        "  img = img.numpy()\n",
        "  \n",
        "  # Since, PyTorch needs channels before the height and width and\n",
        "  # matplotlib needs channels afterwards, transpose them to make images compatible.\n",
        "  return np.transpose(img, (1, 2, 0)).reshape(img.shape[1], -1)\n",
        "\n",
        "print(f'Plotting 10 random images from the train set and their corresponding labels...')\n",
        "dataiter = iter(trainloader)\n",
        "images, labels = dataiter.next()\n",
        "\n",
        "f, axarr = plt.subplots(2, 5)\n",
        "\n",
        "for i in range(2):\n",
        "  for j in range(5):\n",
        "    index = np.random.randint(0, 64)\n",
        "    axarr[i, j].imshow(im_show_process(images[index]))\n",
        "    axarr[i, j].set_title(classes[labels[index]])"
      ],
      "execution_count": 3,
      "outputs": [
        {
          "output_type": "stream",
          "text": [
            "Plotting 10 random images from the train set and their corresponding labels...\n"
          ],
          "name": "stdout"
        },
        {
          "output_type": "display_data",
          "data": {
            "image/png": "[encoded data removed]",
            "text/plain": [
              "<Figure size 432x288 with 10 Axes>"
            ]
          },
          "metadata": {
            "tags": []
          }
        }
      ]
    },
    {
      "cell_type": "code",
      "metadata": {
        "id": "kmDYt9dZIgMt",
        "colab_type": "code",
        "outputId": "0e0cd5cb-5197-4b44-80db-6283a5f4428a",
        "colab": {
          "base_uri": "https://localhost:8080/",
          "height": 257
        }
      },
      "source": [
        "print(f'Plotting 10 random images from the test set and their corresponding labels...')\n",
        "dataiter = iter(testloader)\n",
        "images, labels = dataiter.next()\n",
        "\n",
        "f, axarr = plt.subplots(2, 5)\n",
        "\n",
        "for i in range(2):\n",
        "  for j in range(5):\n",
        "    index = np.random.randint(0, 64)\n",
        "    axarr[i, j].imshow(im_show_process(images[index]))\n",
        "    axarr[i, j].set_title(classes[labels[index]])"
      ],
      "execution_count": 4,
      "outputs": [
        {
          "output_type": "stream",
          "text": [
            "Plotting 10 random images from the test set and their corresponding labels...\n"
          ],
          "name": "stdout"
        },
        {
          "output_type": "display_data",
          "data": {
            "image/png": "[encoded data removed]",
            "text/plain": [
              "<Figure size 432x288 with 10 Axes>"
            ]
          },
          "metadata": {
            "tags": []
          }
        }
      ]
    },
    {
      "cell_type": "markdown",
      "metadata": {
        "id": "YvECp-XdKPEP",
        "colab_type": "text"
      },
      "source": [
        "## Thanks to PyTorch datasets, not much of anything is required.\n",
        "### Next step: Building the model."
      ]
    },
    {
      "cell_type": "code",
      "metadata": {
        "id": "28G3G9ldKIkh",
        "colab_type": "code",
        "outputId": "11b725f4-c46d-4203-a013-d74711920a5a",
        "colab": {
          "base_uri": "https://localhost:8080/",
          "height": 34
        }
      },
      "source": [
        "import torch.nn as nn\n",
        "import torch.nn.functional as F\n",
        "\n",
        "\n",
        "class IdentityBlock(nn.Module):\n",
        "  \"\"\"\n",
        "  Implementing an identity block where the dimensions of both the opearands \n",
        "  while implementing the skip connection should be same.\n",
        "  \n",
        "  Inputs:\n",
        "  X: Input tensor of shape(m, n_channels, n_H, n_W)\n",
        "  f: filter size for the middle convolutional layer of the main path.\n",
        "  filters: A list of 3 integers specifying the number of filters at each layer\n",
        "           in the main path.\n",
        "  in_channels = Number of input channels\n",
        "  \"\"\"\n",
        "  \n",
        "  def __init__(self, f, filters, in_channels):\n",
        "    super(IdentityBlock, self).__init__()\n",
        "    \n",
        "    F1, F2, F3 = filters\n",
        "    \n",
        "    # First component in the main path\n",
        "    self.conv1 = nn.Conv2d(in_channels, F1, kernel_size=(1,1), stride=(1,1))\n",
        "    self.batch_norm1 = nn.BatchNorm2d(F1)\n",
        "    \n",
        "    # Second component in the main path\n",
        "    # Since PyTorch does not implement valid padding and same padding,\n",
        "    # manually apply padding to cover case of both even and odd filter size.\n",
        "    pad = (f-1)//2\n",
        "    self.conv2 = None\n",
        "    self.is_zero_pad = False\n",
        "    if f%2 == 0: # If the filter size is even, padding only the right side.\n",
        "      limit = f-1\n",
        "      pad_1 = (f-1)//2\n",
        "      pad_2 = limit-pad_1\n",
        "      self.is_zero_pad = True\n",
        "      self.zero_pad = nn.ZeroPad2d((pad_1, pad_2, pad_1, pad_2))\n",
        "      self.conv2 = nn.Conv2d(F1, F2, kernel_size=(f,f), stride=(1,1), padding=0)\n",
        "    else:\n",
        "      self.conv2 = nn.Conv2d(F1, F2, kernel_size=(f,f), stride=(1,1), \n",
        "                             padding=pad)\n",
        "    self.batch_norm2 = nn.BatchNorm2d(F2)\n",
        "    \n",
        "    # Third component in the main path\n",
        "    self.conv3 = nn.Conv2d(F2, F3, kernel_size=(1,1), stride=(1,1))\n",
        "    self.batch_norm3 = nn.BatchNorm2d(F3)\n",
        "    \n",
        "    self.relu = nn.ReLU()\n",
        "    \n",
        "  def layer(self, X):\n",
        "    X_shortcut = X\n",
        "#     print(f'Shape of shortcut: {X.shape}')\n",
        "    \n",
        "    X = self.relu(self.batch_norm1(self.conv1(X)))\n",
        "#     print(f'After 1: {X.shape}')\n",
        "#     print(f'SHape zero pad: {self.zero_pad(X).shape}')\n",
        "\n",
        "    if self.is_zero_pad:\n",
        "      X = self.relu(self.batch_norm2(self.conv2(self.zero_pad(X))))\n",
        "    else:\n",
        "      X = self.relu(self.batch_norm2(self.conv2(X)))\n",
        "\n",
        "#     print(f'After 2: {X.shape}')\n",
        "    X = self.batch_norm3(self.conv3(X))\n",
        "    \n",
        "#     print(f'After 3: {X.shape}')\n",
        "    X += X_shortcut\n",
        "    return self.relu(X)\n",
        "    \n",
        "    \n",
        "test = IdentityBlock(f=3, filters=[256, 256, 1024], in_channels=1024)\n",
        "image = torch.randn((3, 1024, 1, 1))\n",
        "image = test.layer(image)\n",
        "print(image.shape)"
      ],
      "execution_count": 5,
      "outputs": [
        {
          "output_type": "stream",
          "text": [
            "torch.Size([3, 1024, 1, 1])\n"
          ],
          "name": "stdout"
        }
      ]
    },
    {
      "cell_type": "code",
      "metadata": {
        "id": "BEfGiIyaHEFP",
        "colab_type": "code",
        "outputId": "4b0b6de7-43bc-4ec8-9c83-de43c22e3c75",
        "colab": {
          "base_uri": "https://localhost:8080/",
          "height": 34
        }
      },
      "source": [
        "class ConvolutionalBlock(nn.Module):\n",
        "  \"\"\"\n",
        "  Implementing the convolutional block where the operands of the skip\n",
        "  connection are of different sizes.\n",
        "  \"\"\"\n",
        "  \n",
        "  def __init__(self, f, filters, in_channels, stride=2):\n",
        "    super(ConvolutionalBlock, self).__init__() \n",
        "    \n",
        "    # Retrieving the filters\n",
        "    F1, F2, F3 = filters\n",
        "     \n",
        "    # First component in main path\n",
        "    self.conv1 = nn.Conv2d(in_channels, F1, kernel_size=(1,1), \n",
        "                           stride=(stride, stride))\n",
        "    self.batch_norm1 = nn.BatchNorm2d(F1)\n",
        "    \n",
        "    # Second component in the main path\n",
        "    # Since PyTorch does not implement valid padding and same padding,\n",
        "    # manually apply padding to cover case of both even and odd filter size.\n",
        "    pad = (f-1)//2\n",
        "    self.conv2 = None\n",
        "    self.is_zero_pad = False\n",
        "    if f%2 == 0: # If the filter size is even, padding only the right side.\n",
        "      limit = f-1\n",
        "      pad_1 = (f-1)//2\n",
        "      pad_2 = limit-pad_1\n",
        "      self.is_zero_pad = True\n",
        "      self.zero_pad = nn.ZeroPad2d((pad_1, pad_2, pad_1, pad_2))\n",
        "      self.conv2 = nn.Conv2d(F1, F2, kernel_size=(f,f), stride=(1,1), padding=0)\n",
        "    else:\n",
        "      self.conv2 = nn.Conv2d(F1, F2, kernel_size=(f,f), stride=(1,1),\n",
        "                             padding=pad)\n",
        "    self.batch_norm2 = nn.BatchNorm2d(F2)\n",
        "    \n",
        "    # Third component in the main path\n",
        "    self.conv3 = nn.Conv2d(F2, F3, kernel_size=(1,1), stride=(1,1))\n",
        "    self.batch_norm3 = nn.BatchNorm2d(F3)\n",
        "    \n",
        "    # Shortcut path. Making sure the dimensions match.\n",
        "    self.conv_shortcut = nn.Conv2d(in_channels, F3, kernel_size=(1,1), \n",
        "                                   stride=(stride, stride))\n",
        "    # this is same as the third batch norm. Seperate for readability purpose.\n",
        "    self.batch_norm_shortcut = nn.BatchNorm2d(F3) \n",
        "    \n",
        "    self.relu = nn.ReLU()\n",
        "    \n",
        "  def layer(self, X):\n",
        "    X_shortcut = X\n",
        "#     print(f'Input_shape: {X.shape}')\n",
        "    X = self.relu(self.batch_norm1(self.conv1(X)))\n",
        "#     print(f'After 1: {X.shape}')\n",
        "    \n",
        "    if self.is_zero_pad:\n",
        "      X = self.relu(self.batch_norm2(self.conv2(self.zero_pad(X))))\n",
        "    else:\n",
        "      X = self.relu(self.batch_norm2(self.conv2(X)))\n",
        "#     print(f'After 2: {X.shape}')\n",
        "    \n",
        "    X = self.batch_norm3(self.conv3(X))\n",
        "#     print(f'After 3: {X.shape}')\n",
        "    \n",
        "    # Implement the shortcut path\n",
        "    X_shortcut = self.batch_norm_shortcut(self.conv_shortcut(X_shortcut))\n",
        "#     print(f'After shortcut: {X_shortcut.shape}')\n",
        "    X += X_shortcut\n",
        "      \n",
        "    return self.relu(X)\n",
        "  \n",
        "conv_block = ConvolutionalBlock(f=3, filters=[512, 512, 2048], in_channels=1024, stride=2)\n",
        "image = torch.randn((3, 1024, 1, 1))\n",
        "image = conv_block.layer(image)\n",
        "print(image.shape)"
      ],
      "execution_count": 6,
      "outputs": [
        {
          "output_type": "stream",
          "text": [
            "torch.Size([3, 2048, 1, 1])\n"
          ],
          "name": "stdout"
        }
      ]
    },
    {
      "cell_type": "markdown",
      "metadata": {
        "id": "PLsnfJ5rlI8s",
        "colab_type": "text"
      },
      "source": [
        "## Building the Resnet 50 model.\n",
        "\n",
        "We now have the building blocks for the model. Now, the architecture is defined as:\n",
        "\n",
        "\n",
        "*   Zero Padding the input with a pad of (3,3)\n",
        "*   Stage 1:\n",
        "  *  The 2D Convolution has 64 filters of shape (7,7) ans uses a stride of (2, 2)\n",
        "  * Batch Normalization is applied\n",
        "  * MaxPooling (3,3) window and (2,2) stride.\n",
        "*   Stage 2: \n",
        "  *  The convolutional block uses three set of filters of size [64,64,256], \"f\" is 3, \"s\" is 1\n",
        "  *  The 2 identity blocks use three set of filters of size [64,64,256], \"f\" is 3\n",
        "*   Stage 3:\n",
        "  *  The convolutional block uses three set of filters of size [128,128,512], \"f\" is 3, \"s\" is 2\n",
        "  *  The 3 identity blocks use three set of filters of size [128,128,512], \"f\" is 3\n",
        "*   Stage 4:\n",
        "  *  The convolutional block uses three set of filters of size [256, 256, 1024], \"f\" is 3, \"s\" is 2\n",
        "  *  The 5 identity blocks use three set of filters of size [256, 256, 1024], \"f\" is 3\n",
        "*   Stage 5:\n",
        "  *  The convolutional block uses three set of filters of size [512, 512, 2048], \"f\" is 3, \"s\" is 2\n",
        "  *  The 2 identity blocks use three set of filters of size [512, 512, 2048], \"f\" is 3 \n",
        "*   The 2D Average Pooling uses a window of shape (2,2) and its name is \"avg_pool\".\n",
        "*   The flatten doesn't have any hyperparameters or name.\n",
        "*   The Fully Connected (Dense) layer reduces its input to the number of classes using a softmax activation."
      ]
    },
    {
      "cell_type": "code",
      "metadata": {
        "id": "SRBnlS7tjTvG",
        "colab_type": "code",
        "colab": {}
      },
      "source": [
        "class Resnet(nn.Module):\n",
        "  \"\"\"\n",
        "  The input for the CIFAR images will be: (m, 3, 32, 32)\n",
        "  Output of pooling = ((i-f)/s) + 1\n",
        "  \"\"\"\n",
        "  def __init__(self,in_shape, num_classes):\n",
        "    super(Resnet, self).__init__()\n",
        "    \n",
        "    if len(in_shape) == 4:\n",
        "      in_channels = in_shape[1]\n",
        "    else:\n",
        "      in_channels = in_shape[0]\n",
        "    \n",
        "    self.relu = nn.ReLU()\n",
        "    \n",
        "    self.initial_zero_pad = nn.ZeroPad2d((3,3)) # Output= (32,32)\n",
        "    \n",
        "    # Stage 1\n",
        "    self.conv1 = nn.Conv2d(in_channels, out_channels=64, kernel_size=(7,7),\n",
        "                          stride=(2,2), padding=0) # Output -> (16,16,64)\n",
        "    self.batch_norm1 = nn.BatchNorm2d(64)\n",
        "    self.max_pool_1 = nn.MaxPool2d(kernel_size=(3,3), stride=(2,2)) # Output->(7,7)\n",
        "    # Output channels = 64\n",
        "    \n",
        "    # Stage 2\n",
        "    self.conv_block_2_1 = ConvolutionalBlock(f=3, filters=[64, 64, 256], in_channels=64, stride=2) # Output -> (4, 4, 256)\n",
        "    self.id_block_2_1 = IdentityBlock(f=3, filters=[64, 64, 256], in_channels=256) # Output -> (4, 4, 256)\n",
        "    self.id_block_2_2 = IdentityBlock(f=3, filters=[64, 64, 256], in_channels=256) # Output -> (4, 4, 256)\n",
        "    # Output channels = 256\n",
        "    \n",
        "    # Stage 3\n",
        "    self.conv_block_3_1 = ConvolutionalBlock(f=3, filters=[128,128,512], in_channels=256, stride=2) # Output -> (512, 2, 2)\n",
        "    self.id_block_3_1 = IdentityBlock(f=3, filters=[128,128,512], in_channels=512) # Output -> (512, 2, 2)\n",
        "    self.id_block_3_2 = IdentityBlock(f=3, filters=[128,128,512], in_channels=512) # Output -> (512, 2, 2)\n",
        "    self.id_block_3_3 = IdentityBlock(f=3, filters=[128,128,512], in_channels=512) # Output -> (512, 2, 2)\n",
        "    # Output channels = 512\n",
        "    \n",
        "    # Stage 4\n",
        "    self.conv_block_4_1 = ConvolutionalBlock(f=3, filters=[256, 256, 1024], in_channels=512, stride=2) # Output -> (1024, 1, 1)\n",
        "    self.id_block_4_1 = IdentityBlock(f=3, filters=[256, 256, 1024], in_channels=1024) # Output -> (1024, 1, 1)\n",
        "    self.id_block_4_2 = IdentityBlock(f=3, filters=[256, 256, 1024], in_channels=1024) # Output -> (1024, 1, 1)\n",
        "    self.id_block_4_3 = IdentityBlock(f=3, filters=[256, 256, 1024], in_channels=1024) # Output -> (1024, 1, 1)\n",
        "    self.id_block_4_4 = IdentityBlock(f=3, filters=[256, 256, 1024], in_channels=1024) # Output -> (1024, 1, 1)\n",
        "    self.id_block_4_5 = IdentityBlock(f=3, filters=[256, 256, 1024], in_channels=1024) # Output -> (1024, 1, 1)\n",
        "    # Output channels = 1024\n",
        "    \n",
        "    # Stage 5\n",
        "    self.conv_block_5_1 = ConvolutionalBlock(f=3, filters=[512, 512, 2048], in_channels=1024, stride=2) # Output -> (2048, 1, 1)\n",
        "    self.id_block_5_1 = IdentityBlock(f=3, filters=[512, 512, 2048], in_channels=2048) # Output -> (2048, 1, 1)\n",
        "    self.id_block_5_2 = IdentityBlock(f=3, filters=[512, 512, 2048], in_channels=2048) # Output -> (2048, 1, 1)\n",
        "    \n",
        "    self.avg_pool = nn.AvgPool2d(kernel_size=(2,2), padding=(0, 0))\n",
        "    \n",
        "    # Fully connected layers after flattening\n",
        "    self.fc1 = nn.Linear(2048, 512)\n",
        "    self.fc2 = nn.Linear(512, 64)\n",
        "    self.fc3 = nn.Linear(64, 10)\n",
        "    \n",
        "  def forward(self, X):\n",
        "    \n",
        "    X = self.initial_zero_pad(X)\n",
        "    \n",
        "    X = self.conv1(X)\n",
        "    X = self.batch_norm1(X)\n",
        "    X = self.max_pool_1(X)\n",
        "    \n",
        "    X = self.conv_block_2_1.layer(X)\n",
        "    X = self.id_block_2_1.layer(X)\n",
        "    X = self.id_block_2_2.layer(X)\n",
        "    \n",
        "    X = self.conv_block_3_1.layer(X)\n",
        "    X = self.id_block_3_1.layer(X)\n",
        "    X = self.id_block_3_2.layer(X)\n",
        "    X = self.id_block_3_3.layer(X)\n",
        "    \n",
        "    X = self.conv_block_4_1.layer(X)\n",
        "    X = self.id_block_4_1.layer(X)\n",
        "    X = self.id_block_4_2.layer(X)\n",
        "    X = self.id_block_4_3.layer(X)\n",
        "    X = self.id_block_4_4.layer(X)\n",
        "    X = self.id_block_4_5.layer(X)\n",
        "    \n",
        "    X = self.conv_block_5_1.layer(X)\n",
        "    X = self.id_block_5_1.layer(X)\n",
        "    X = self.id_block_5_2.layer(X)\n",
        "    \n",
        "    X = self.avg_pool(X)\n",
        "    \n",
        "    \n",
        "    X = X.view(X.shape[0], -1)\n",
        "    \n",
        "    X = F.relu(self.fc1(X))\n",
        "    X = F.relu(self.fc2(X))\n",
        "    \n",
        "    return self.fc3(X)\n",
        "    \n",
        "    \n",
        "resnet = Resnet((64,1, 28,28),5)\n",
        "image = torch.randn((64,1, 28,28))\n",
        "output = resnet(image)\n"
      ],
      "execution_count": 0,
      "outputs": []
    },
    {
      "cell_type": "markdown",
      "metadata": {
        "id": "fd5XOCHYLjsV",
        "colab_type": "text"
      },
      "source": [
        "###Instantiate the model and define loss and optimizer"
      ]
    },
    {
      "cell_type": "code",
      "metadata": {
        "id": "LdP_gzFzt5Ks",
        "colab_type": "code",
        "colab": {}
      },
      "source": [
        "import torch.optim as optim\n",
        "\n",
        "model = Resnet((batch_size, 1, 28, 28), len(classes)).to(device)\n",
        "criterion = nn.CrossEntropyLoss()\n",
        "optimizer = optim.Adam(model.parameters())"
      ],
      "execution_count": 0,
      "outputs": []
    },
    {
      "cell_type": "markdown",
      "metadata": {
        "id": "Fz2Mxkr7MQm1",
        "colab_type": "text"
      },
      "source": [
        "###Train the model"
      ]
    },
    {
      "cell_type": "code",
      "metadata": {
        "id": "yyL0DNr8_Lt5",
        "colab_type": "code",
        "outputId": "fcb4b5cd-9d20-477f-f5d1-0a28148acac8",
        "colab": {
          "base_uri": "https://localhost:8080/",
          "height": 1615
        }
      },
      "source": [
        "epochs = 10\n",
        "steps = 0\n",
        "train_loss = []\n",
        "validation_loss = []\n",
        "validation_acc = []\n",
        "\n",
        "running_loss = 0\n",
        "print_every = 100\n",
        "\n",
        "for epoch in range(epochs):\n",
        "  \n",
        "  for inputs, labels in trainloader:\n",
        "    steps += 1 \n",
        "    inputs, labels = inputs.to(device), labels.to(device)\n",
        "    \n",
        "    optimizer.zero_grad()\n",
        "    \n",
        "    logps = model(inputs)\n",
        "    loss = criterion(logps, labels)\n",
        "    loss.backward()\n",
        "    optimizer.step()\n",
        "    \n",
        "    running_loss += loss.item()\n",
        "    \n",
        "    if steps % print_every == 0:\n",
        "      test_loss = 0\n",
        "      accuracy = 0\n",
        "      model.eval()\n",
        "      with torch.no_grad():\n",
        "        for inputs, labels in testloader:\n",
        "          inputs, labels = inputs.to(device), labels.to(device)\n",
        "          logps = model(inputs)\n",
        "          batch_loss = criterion(logps, labels)\n",
        "          \n",
        "          test_loss += batch_loss.item()\n",
        "          \n",
        "          # Calculate accuracy\n",
        "          ps = torch.exp(logps)\n",
        "          top_p, top_class = ps.topk(1, dim=1)\n",
        "          equals = top_class == labels.view(*top_class.shape)\n",
        "          accuracy += torch.mean(equals.type(torch.FloatTensor)).item()\n",
        "          \n",
        "        print(f\"Epoch {epoch+1}/{epochs}.. \"\n",
        "              f\"Train loss: {running_loss/print_every:.8f}.. \"\n",
        "              f\"Test loss: {test_loss/len(testloader):.8f}.. \"\n",
        "              f\"Test accuracy: {accuracy/len(testloader):.8f}\")\n",
        "        train_loss.append(running_loss/print_every)\n",
        "        validation_loss.append(test_loss/len(testloader))\n",
        "        validation_acc.append(accuracy/(len(testloader)))\n",
        "        running_loss = 0\n",
        "        model.train()\n",
        "  \n",
        "#   for i, data in enumerate(trainloader):\n",
        "#     inputs, labels = data\n",
        "#     inputs = inputs.to(device)\n",
        "#     labels = labels.to(device)\n",
        "    \n",
        "#     optimizer.zero_grad()\n",
        "    \n",
        "#     outputs = model(inputs)\n",
        "#     print(labels.shape)\n",
        "#     print(output.shape)\n",
        "#     loss = criterion(outputs, labels)\n",
        "#     loss.backward() # loss for each batch\n",
        "#     optimizer.step()\n",
        "    \n",
        "#     epoch_loss += loss.item()\n",
        "#     running_loss += loss.item()\n",
        "#     if (i) % 1999 == 0:\n",
        "#       print(f'Epoch: {epoch+1}\\tBatch: {i+1}\\tLoss: {running_loss/2000}')\n",
        "#       running_loss = 0\n",
        "      \n",
        "#   model.eval()\n",
        "#   valid_loss = 0\n",
        "#   correct = 0\n",
        "#   with torch.no_grad():\n",
        "#     for data, target in testloader:\n",
        "#       output = model(data)\n",
        "#       loss = criterion(output, loss)\n",
        "#       valid_loss += loss.item()\n",
        "      \n",
        "#       _, pred = torch.topk(output, dim=1)\n",
        "      \n",
        "#       correct += (pred==target).sum().item()\n",
        "      \n",
        "      \n",
        "print('Training Finished')"
      ],
      "execution_count": 0,
      "outputs": [
        {
          "output_type": "stream",
          "text": [
            "Epoch 1/10.. Train loss: 0.93981971.. Test loss: 0.60790528.. Test accuracy: 0.80951433\n",
            "Epoch 1/10.. Train loss: 0.41613797.. Test loss: 0.23196400.. Test accuracy: 0.94108280\n",
            "Epoch 1/10.. Train loss: 0.28983659.. Test loss: 0.21183453.. Test accuracy: 0.94167994\n",
            "Epoch 1/10.. Train loss: 0.25010290.. Test loss: 0.20609024.. Test accuracy: 0.94725318\n",
            "Epoch 1/10.. Train loss: 0.22808648.. Test loss: 0.16167872.. Test accuracy: 0.95630971\n",
            "Epoch 1/10.. Train loss: 0.20004990.. Test loss: 0.15440485.. Test accuracy: 0.95810111\n",
            "Epoch 1/10.. Train loss: 0.16673146.. Test loss: 0.13352510.. Test accuracy: 0.96606290\n",
            "Epoch 1/10.. Train loss: 0.17785847.. Test loss: 0.13540387.. Test accuracy: 0.96476911\n",
            "Epoch 1/10.. Train loss: 0.16379330.. Test loss: 0.16325110.. Test accuracy: 0.96437102\n",
            "Epoch 2/10.. Train loss: 0.14654854.. Test loss: 0.11549868.. Test accuracy: 0.97133758\n",
            "Epoch 2/10.. Train loss: 0.12005341.. Test loss: 0.11631099.. Test accuracy: 0.96765525\n",
            "Epoch 2/10.. Train loss: 0.11164972.. Test loss: 0.08671481.. Test accuracy: 0.97621417\n",
            "Epoch 2/10.. Train loss: 0.10772938.. Test loss: 0.09696636.. Test accuracy: 0.97322850\n",
            "Epoch 2/10.. Train loss: 0.10751513.. Test loss: 0.07202997.. Test accuracy: 0.98039411\n",
            "Epoch 2/10.. Train loss: 0.14848057.. Test loss: 0.19763939.. Test accuracy: 0.95302548\n",
            "Epoch 2/10.. Train loss: 0.12834800.. Test loss: 0.12420463.. Test accuracy: 0.96675955\n",
            "Epoch 2/10.. Train loss: 0.12354708.. Test loss: 0.08204607.. Test accuracy: 0.97880175\n",
            "Epoch 2/10.. Train loss: 0.09759086.. Test loss: 0.08372069.. Test accuracy: 0.97890127\n",
            "Epoch 3/10.. Train loss: 0.10399245.. Test loss: 0.07308804.. Test accuracy: 0.97919984\n",
            "Epoch 3/10.. Train loss: 0.07822135.. Test loss: 0.07395545.. Test accuracy: 0.98019506\n",
            "Epoch 3/10.. Train loss: 0.07990698.. Test loss: 0.07364301.. Test accuracy: 0.97999602\n",
            "Epoch 3/10.. Train loss: 0.07809687.. Test loss: 0.07582985.. Test accuracy: 0.97959793\n",
            "Epoch 3/10.. Train loss: 0.08757140.. Test loss: 0.06884284.. Test accuracy: 0.98128981\n",
            "Epoch 3/10.. Train loss: 0.09887626.. Test loss: 0.06779004.. Test accuracy: 0.98268312\n",
            "Epoch 3/10.. Train loss: 0.07986926.. Test loss: 0.07754743.. Test accuracy: 0.97770701\n",
            "Epoch 3/10.. Train loss: 0.08120369.. Test loss: 0.06341573.. Test accuracy: 0.98268312\n",
            "Epoch 3/10.. Train loss: 0.07931123.. Test loss: 0.06014981.. Test accuracy: 0.98298169\n",
            "Epoch 3/10.. Train loss: 0.10294409.. Test loss: 0.15847811.. Test accuracy: 0.95959395\n",
            "Epoch 4/10.. Train loss: 0.12027287.. Test loss: 0.10125114.. Test accuracy: 0.97342755\n",
            "Epoch 4/10.. Train loss: 0.09209034.. Test loss: 0.06499841.. Test accuracy: 0.98328025\n",
            "Epoch 4/10.. Train loss: 0.07721851.. Test loss: 0.06528895.. Test accuracy: 0.98228503\n",
            "Epoch 4/10.. Train loss: 0.05703120.. Test loss: 0.06294258.. Test accuracy: 0.98308121\n",
            "Epoch 4/10.. Train loss: 0.07328639.. Test loss: 0.05725103.. Test accuracy: 0.98437500\n",
            "Epoch 4/10.. Train loss: 0.07750654.. Test loss: 0.05079802.. Test accuracy: 0.98576831\n",
            "Epoch 4/10.. Train loss: 0.07794873.. Test loss: 0.08206762.. Test accuracy: 0.97800557\n",
            "Epoch 4/10.. Train loss: 0.07473665.. Test loss: 0.07182950.. Test accuracy: 0.97880175\n",
            "Epoch 4/10.. Train loss: 0.05820423.. Test loss: 0.05948919.. Test accuracy: 0.98337978\n",
            "Epoch 5/10.. Train loss: 0.06455089.. Test loss: 0.05708640.. Test accuracy: 0.98318073\n",
            "Epoch 5/10.. Train loss: 0.05453430.. Test loss: 0.05074577.. Test accuracy: 0.98546975\n",
            "Epoch 5/10.. Train loss: 0.05764440.. Test loss: 0.06418148.. Test accuracy: 0.98208599\n",
            "Epoch 5/10.. Train loss: 0.08100522.. Test loss: 0.06145632.. Test accuracy: 0.98357882\n",
            "Epoch 5/10.. Train loss: 0.05622868.. Test loss: 0.06927391.. Test accuracy: 0.98128981\n",
            "Epoch 5/10.. Train loss: 0.06918637.. Test loss: 0.06701029.. Test accuracy: 0.98258360\n",
            "Epoch 5/10.. Train loss: 0.06731915.. Test loss: 0.06256200.. Test accuracy: 0.98258360\n",
            "Epoch 5/10.. Train loss: 0.05633316.. Test loss: 0.06853881.. Test accuracy: 0.98208599\n",
            "Epoch 5/10.. Train loss: 0.07376201.. Test loss: 0.06474157.. Test accuracy: 0.98268312\n",
            "Epoch 6/10.. Train loss: 0.04944755.. Test loss: 0.08356159.. Test accuracy: 0.97820462\n",
            "Epoch 6/10.. Train loss: 0.05395771.. Test loss: 0.08894538.. Test accuracy: 0.97999602\n",
            "Epoch 6/10.. Train loss: 0.05525321.. Test loss: 0.04359520.. Test accuracy: 0.98755971\n",
            "Epoch 6/10.. Train loss: 0.05031420.. Test loss: 0.04670149.. Test accuracy: 0.98775876\n",
            "Epoch 6/10.. Train loss: 0.06018892.. Test loss: 0.05300211.. Test accuracy: 0.98666401\n",
            "Epoch 6/10.. Train loss: 0.05313901.. Test loss: 0.06616916.. Test accuracy: 0.98138933\n",
            "Epoch 6/10.. Train loss: 0.05854840.. Test loss: 0.05570355.. Test accuracy: 0.98666401\n",
            "Epoch 6/10.. Train loss: 0.05668653.. Test loss: 0.06241451.. Test accuracy: 0.98258360\n",
            "Epoch 6/10.. Train loss: 0.05567235.. Test loss: 0.04548145.. Test accuracy: 0.98746019\n",
            "Epoch 6/10.. Train loss: 0.04827280.. Test loss: 0.07338027.. Test accuracy: 0.98059315\n",
            "Epoch 7/10.. Train loss: 0.05165732.. Test loss: 0.05663625.. Test accuracy: 0.98417596\n",
            "Epoch 7/10.. Train loss: 0.04987398.. Test loss: 0.05687582.. Test accuracy: 0.98397691\n",
            "Epoch 7/10.. Train loss: 0.04911456.. Test loss: 0.05936717.. Test accuracy: 0.98447452\n",
            "Epoch 7/10.. Train loss: 0.05577379.. Test loss: 0.05654227.. Test accuracy: 0.98497213\n",
            "Epoch 7/10.. Train loss: 0.04196558.. Test loss: 0.06879623.. Test accuracy: 0.98138933\n",
            "Epoch 7/10.. Train loss: 0.05591559.. Test loss: 0.04421476.. Test accuracy: 0.98636545\n",
            "Epoch 7/10.. Train loss: 0.04399335.. Test loss: 0.04057102.. Test accuracy: 0.98696258\n",
            "Epoch 7/10.. Train loss: 0.04129346.. Test loss: 0.06701695.. Test accuracy: 0.98347930\n",
            "Epoch 7/10.. Train loss: 0.05354123.. Test loss: 0.06229924.. Test accuracy: 0.98258360\n",
            "Epoch 8/10.. Train loss: 0.05402788.. Test loss: 0.05203063.. Test accuracy: 0.98616640\n",
            "Epoch 8/10.. Train loss: 0.05482448.. Test loss: 0.09463079.. Test accuracy: 0.97730892\n",
            "Epoch 8/10.. Train loss: 0.06586623.. Test loss: 0.04411374.. Test accuracy: 0.98726115\n",
            "Epoch 8/10.. Train loss: 0.04389771.. Test loss: 0.05305159.. Test accuracy: 0.98616640\n",
            "Epoch 8/10.. Train loss: 0.05025668.. Test loss: 0.06004407.. Test accuracy: 0.98457404\n",
            "Epoch 8/10.. Train loss: 0.05174501.. Test loss: 0.05509973.. Test accuracy: 0.98596736\n",
            "Epoch 8/10.. Train loss: 0.08359128.. Test loss: 0.06077921.. Test accuracy: 0.98298169\n",
            "Epoch 8/10.. Train loss: 0.05142841.. Test loss: 0.06854834.. Test accuracy: 0.98377787\n",
            "Epoch 8/10.. Train loss: 0.05009940.. Test loss: 0.04613749.. Test accuracy: 0.98696258\n",
            "Epoch 8/10.. Train loss: 0.04196271.. Test loss: 0.04535875.. Test accuracy: 0.98925159\n",
            "Epoch 9/10.. Train loss: 0.03146282.. Test loss: 0.05218182.. Test accuracy: 0.98596736\n",
            "Epoch 9/10.. Train loss: 0.03290776.. Test loss: 0.04774534.. Test accuracy: 0.98736067\n",
            "Epoch 9/10.. Train loss: 0.03485409.. Test loss: 0.04556929.. Test accuracy: 0.98716162\n",
            "Epoch 9/10.. Train loss: 0.04045152.. Test loss: 0.05348887.. Test accuracy: 0.98736067\n",
            "Epoch 9/10.. Train loss: 0.04228038.. Test loss: 0.06116238.. Test accuracy: 0.98537022\n",
            "Epoch 9/10.. Train loss: 0.06678985.. Test loss: 0.06591192.. Test accuracy: 0.98039411\n",
            "Epoch 9/10.. Train loss: 0.06873855.. Test loss: 0.04755662.. Test accuracy: 0.98746019\n",
            "Epoch 9/10.. Train loss: 0.04216098.. Test loss: 0.05665917.. Test accuracy: 0.98497213\n",
            "Epoch 9/10.. Train loss: 0.03436854.. Test loss: 0.04824623.. Test accuracy: 0.98785828\n",
            "Epoch 10/10.. Train loss: 0.03477288.. Test loss: 0.05308701.. Test accuracy: 0.98706210\n",
            "Epoch 10/10.. Train loss: 0.03376345.. Test loss: 0.04888072.. Test accuracy: 0.98795780\n",
            "Epoch 10/10.. Train loss: 0.03652976.. Test loss: 0.05119590.. Test accuracy: 0.98696258\n",
            "Epoch 10/10.. Train loss: 0.03627782.. Test loss: 0.05051354.. Test accuracy: 0.98706210\n",
            "Epoch 10/10.. Train loss: 0.03937310.. Test loss: 0.05606029.. Test accuracy: 0.98696258\n",
            "Epoch 10/10.. Train loss: 0.02974578.. Test loss: 0.06705880.. Test accuracy: 0.98357882\n",
            "Epoch 10/10.. Train loss: 0.03468167.. Test loss: 0.05451871.. Test accuracy: 0.98755971\n",
            "Epoch 10/10.. Train loss: 0.03800627.. Test loss: 0.06489197.. Test accuracy: 0.98168790\n",
            "Epoch 10/10.. Train loss: 0.03941944.. Test loss: 0.04379926.. Test accuracy: 0.98755971\n",
            "Training Finished\n"
          ],
          "name": "stdout"
        }
      ]
    },
    {
      "cell_type": "code",
      "metadata": {
        "id": "HYV5ByT0NnqT",
        "colab_type": "code",
        "outputId": "225fb31a-e984-4a24-e568-956b25e5f46b",
        "colab": {
          "base_uri": "https://localhost:8080/",
          "height": 312
        }
      },
      "source": [
        "# Plot the training losses.\n",
        "plt.plot(train_loss, color='r')\n",
        "plt.xlabel('Loss')\n",
        "plt.ylabel('Epochs')\n",
        "plt.title('Training Losses')"
      ],
      "execution_count": 0,
      "outputs": [
        {
          "output_type": "execute_result",
          "data": {
            "text/plain": [
              "Text(0.5, 1.0, 'Training Losses')"
            ]
          },
          "metadata": {
            "tags": []
          },
          "execution_count": 26
        },
        {
          "output_type": "display_data",
          "data": {
            "image/png": "[encoded data removed]",
            "text/plain": [
              "<Figure size 432x288 with 1 Axes>"
            ]
          },
          "metadata": {
            "tags": []
          }
        }
      ]
    },
    {
      "cell_type": "code",
      "metadata": {
        "id": "qJk-6X3X6Eik",
        "colab_type": "code",
        "outputId": "08e2fbe8-4499-4999-a63f-ae24f1a285ca",
        "colab": {
          "base_uri": "https://localhost:8080/",
          "height": 312
        }
      },
      "source": [
        "# Plot Validation losses\n",
        "\n",
        "plt.plot(validation_loss, color='r')\n",
        "plt.xlabel('Loss')\n",
        "plt.ylabel('Epochs')\n",
        "plt.title('Validation Losses')"
      ],
      "execution_count": 0,
      "outputs": [
        {
          "output_type": "execute_result",
          "data": {
            "text/plain": [
              "Text(0.5, 1.0, 'Validation Losses')"
            ]
          },
          "metadata": {
            "tags": []
          },
          "execution_count": 29
        },
        {
          "output_type": "display_data",
          "data": {
            "image/png": "[encoded data removed]",
            "text/plain": [
              "<Figure size 432x288 with 1 Axes>"
            ]
          },
          "metadata": {
            "tags": []
          }
        }
      ]
    },
    {
      "cell_type": "code",
      "metadata": {
        "id": "4-IqDfOH6QvH",
        "colab_type": "code",
        "outputId": "3a53cacd-a8dc-466c-ef60-2b8b19e384eb",
        "colab": {
          "base_uri": "https://localhost:8080/",
          "height": 312
        }
      },
      "source": [
        "# Plot the validation accuracy\n",
        "plt.plot(validation_acc, color='r')\n",
        "plt.xlabel('Accuracy')\n",
        "plt.ylabel('Epochs')\n",
        "plt.title('Validation Accuracy')"
      ],
      "execution_count": 0,
      "outputs": [
        {
          "output_type": "execute_result",
          "data": {
            "text/plain": [
              "Text(0.5, 1.0, 'Validation Accuracy')"
            ]
          },
          "metadata": {
            "tags": []
          },
          "execution_count": 31
        },
        {
          "output_type": "display_data",
          "data": {
            "image/png": "[encoded data removed]",
            "text/plain": [
              "<Figure size 432x288 with 1 Axes>"
            ]
          },
          "metadata": {
            "tags": []
          }
        }
      ]
    },
    {
      "cell_type": "code",
      "metadata": {
        "id": "WUJwgziY6R_o",
        "colab_type": "code",
        "outputId": "5c94c0b2-b6f9-4656-e28c-5507cf58907e",
        "colab": {
          "base_uri": "https://localhost:8080/",
          "height": 122
        }
      },
      "source": [
        "from google.colab import drive\n",
        "drive.mount('/content/gdrive')"
      ],
      "execution_count": 8,
      "outputs": [
        {
          "output_type": "stream",
          "text": [
            "Go to this URL in a browser: https://accounts.google.com/o/oauth2/auth?client_id=947318989803-6bn6qk8qdgf4n4g3pfee6491hc0brc4i.apps.googleusercontent.com&redirect_uri=urn%3Aietf%3Awg%3Aoauth%3A2.0%3Aoob&scope=email%20https%3A%2F%2Fwww.googleapis.com%2Fauth%2Fdocs.test%20https%3A%2F%2Fwww.googleapis.com%2Fauth%2Fdrive%20https%3A%2F%2Fwww.googleapis.com%2Fauth%2Fdrive.photos.readonly%20https%3A%2F%2Fwww.googleapis.com%2Fauth%2Fpeopleapi.readonly&response_type=code\n",
            "\n",
            "Enter your authorization code:\n",
            "··········\n",
            "Mounted at /content/gdrive\n"
          ],
          "name": "stdout"
        }
      ]
    },
    {
      "cell_type": "code",
      "metadata": {
        "id": "Ll_adMTr7PKq",
        "colab_type": "code",
        "colab": {
          "base_uri": "https://localhost:8080/",
          "height": 214
        },
        "outputId": "ede8d6d6-7a0d-4ce3-f9e8-a8af9bf24d88"
      },
      "source": [
        "import os\n",
        "os.listdir('gdrive/My Drive/Machine Learning Models/')\n",
        "torch.save({'epochs': 10,\n",
        "            'model_state_dict': model.state_dict(),\n",
        "           'optimizer_state_dict': optimizer.state_dict()},'gdrive/My Drive/Machine Learning Models/resnet_50_mnist_10_epochs.pth')"
      ],
      "execution_count": 9,
      "outputs": [
        {
          "output_type": "error",
          "ename": "NameError",
          "evalue": "ignored",
          "traceback": [
            "\u001b[0;31m---------------------------------------------------------------------------\u001b[0m",
            "\u001b[0;31mNameError\u001b[0m                                 Traceback (most recent call last)",
            "\u001b[0;32m<ipython-input-9-8a08ffaa2c68>\u001b[0m in \u001b[0;36m<module>\u001b[0;34m()\u001b[0m\n\u001b[1;32m      2\u001b[0m \u001b[0mos\u001b[0m\u001b[0;34m.\u001b[0m\u001b[0mlistdir\u001b[0m\u001b[0;34m(\u001b[0m\u001b[0;34m'gdrive/My Drive/Machine Learning Models/'\u001b[0m\u001b[0;34m)\u001b[0m\u001b[0;34m\u001b[0m\u001b[0;34m\u001b[0m\u001b[0m\n\u001b[1;32m      3\u001b[0m torch.save({'epochs': 10,\n\u001b[0;32m----> 4\u001b[0;31m             \u001b[0;34m'model_state_dict'\u001b[0m\u001b[0;34m:\u001b[0m \u001b[0mmodel\u001b[0m\u001b[0;34m.\u001b[0m\u001b[0mstate_dict\u001b[0m\u001b[0;34m(\u001b[0m\u001b[0;34m)\u001b[0m\u001b[0;34m,\u001b[0m\u001b[0;34m\u001b[0m\u001b[0;34m\u001b[0m\u001b[0m\n\u001b[0m\u001b[1;32m      5\u001b[0m            'optimizer_state_dict': optimizer.state_dict()},'gdrive/My Drive/Machine Learning Models/resnet_50_mnist_10_epochs.pth')\n",
            "\u001b[0;31mNameError\u001b[0m: name 'model' is not defined"
          ]
        }
      ]
    },
    {
      "cell_type": "code",
      "metadata": {
        "id": "xF7suMhZ7cLZ",
        "colab_type": "code",
        "outputId": "d6f99a88-79ac-433f-a66e-8f3ffb3b4671",
        "colab": {
          "base_uri": "https://localhost:8080/",
          "height": 68
        }
      },
      "source": [
        "os.listdir('gdrive/My Drive/Machine Learning Models/')"
      ],
      "execution_count": 10,
      "outputs": [
        {
          "output_type": "execute_result",
          "data": {
            "text/plain": [
              "['toxic-comment-gen.h5',\n",
              " 'toxic-comment-gen-compact.h5',\n",
              " 'resnet_50_mnist_10_epochs.pth']"
            ]
          },
          "metadata": {
            "tags": []
          },
          "execution_count": 10
        }
      ]
    },
    {
      "cell_type": "markdown",
      "metadata": {
        "id": "3tkCdttYhGM-",
        "colab_type": "text"
      },
      "source": [
        "## Load pretrained model"
      ]
    },
    {
      "cell_type": "code",
      "metadata": {
        "id": "bMteeL_nhE54",
        "colab_type": "code",
        "colab": {
          "base_uri": "https://localhost:8080/",
          "height": 2788
        },
        "outputId": "9ab1f0f2-e924-4f1b-f5e5-2605fbe201c8"
      },
      "source": [
        "checkpoint = torch.load('gdrive/My Drive/Machine Learning Models/resnet_50_mnist_10_epochs.pth')\n",
        "model.load_state_dict(checkpoint['model_state_dict'])\n",
        "print(model)"
      ],
      "execution_count": 14,
      "outputs": [
        {
          "output_type": "stream",
          "text": [
            "Resnet(\n",
            "  (relu): ReLU()\n",
            "  (initial_zero_pad): ZeroPad2d(padding=(3, 3), value=0.0)\n",
            "  (conv1): Conv2d(1, 64, kernel_size=(7, 7), stride=(2, 2))\n",
            "  (batch_norm1): BatchNorm2d(64, eps=1e-05, momentum=0.1, affine=True, track_running_stats=True)\n",
            "  (max_pool_1): MaxPool2d(kernel_size=(3, 3), stride=(2, 2), padding=0, dilation=1, ceil_mode=False)\n",
            "  (conv_block_2_1): ConvolutionalBlock(\n",
            "    (conv1): Conv2d(64, 64, kernel_size=(1, 1), stride=(2, 2))\n",
            "    (batch_norm1): BatchNorm2d(64, eps=1e-05, momentum=0.1, affine=True, track_running_stats=True)\n",
            "    (conv2): Conv2d(64, 64, kernel_size=(3, 3), stride=(1, 1), padding=(1, 1))\n",
            "    (batch_norm2): BatchNorm2d(64, eps=1e-05, momentum=0.1, affine=True, track_running_stats=True)\n",
            "    (conv3): Conv2d(64, 256, kernel_size=(1, 1), stride=(1, 1))\n",
            "    (batch_norm3): BatchNorm2d(256, eps=1e-05, momentum=0.1, affine=True, track_running_stats=True)\n",
            "    (conv_shortcut): Conv2d(64, 256, kernel_size=(1, 1), stride=(2, 2))\n",
            "    (batch_norm_shortcut): BatchNorm2d(256, eps=1e-05, momentum=0.1, affine=True, track_running_stats=True)\n",
            "    (relu): ReLU()\n",
            "  )\n",
            "  (id_block_2_1): IdentityBlock(\n",
            "    (conv1): Conv2d(256, 64, kernel_size=(1, 1), stride=(1, 1))\n",
            "    (batch_norm1): BatchNorm2d(64, eps=1e-05, momentum=0.1, affine=True, track_running_stats=True)\n",
            "    (conv2): Conv2d(64, 64, kernel_size=(3, 3), stride=(1, 1), padding=(1, 1))\n",
            "    (batch_norm2): BatchNorm2d(64, eps=1e-05, momentum=0.1, affine=True, track_running_stats=True)\n",
            "    (conv3): Conv2d(64, 256, kernel_size=(1, 1), stride=(1, 1))\n",
            "    (batch_norm3): BatchNorm2d(256, eps=1e-05, momentum=0.1, affine=True, track_running_stats=True)\n",
            "    (relu): ReLU()\n",
            "  )\n",
            "  (id_block_2_2): IdentityBlock(\n",
            "    (conv1): Conv2d(256, 64, kernel_size=(1, 1), stride=(1, 1))\n",
            "    (batch_norm1): BatchNorm2d(64, eps=1e-05, momentum=0.1, affine=True, track_running_stats=True)\n",
            "    (conv2): Conv2d(64, 64, kernel_size=(3, 3), stride=(1, 1), padding=(1, 1))\n",
            "    (batch_norm2): BatchNorm2d(64, eps=1e-05, momentum=0.1, affine=True, track_running_stats=True)\n",
            "    (conv3): Conv2d(64, 256, kernel_size=(1, 1), stride=(1, 1))\n",
            "    (batch_norm3): BatchNorm2d(256, eps=1e-05, momentum=0.1, affine=True, track_running_stats=True)\n",
            "    (relu): ReLU()\n",
            "  )\n",
            "  (conv_block_3_1): ConvolutionalBlock(\n",
            "    (conv1): Conv2d(256, 128, kernel_size=(1, 1), stride=(2, 2))\n",
            "    (batch_norm1): BatchNorm2d(128, eps=1e-05, momentum=0.1, affine=True, track_running_stats=True)\n",
            "    (conv2): Conv2d(128, 128, kernel_size=(3, 3), stride=(1, 1), padding=(1, 1))\n",
            "    (batch_norm2): BatchNorm2d(128, eps=1e-05, momentum=0.1, affine=True, track_running_stats=True)\n",
            "    (conv3): Conv2d(128, 512, kernel_size=(1, 1), stride=(1, 1))\n",
            "    (batch_norm3): BatchNorm2d(512, eps=1e-05, momentum=0.1, affine=True, track_running_stats=True)\n",
            "    (conv_shortcut): Conv2d(256, 512, kernel_size=(1, 1), stride=(2, 2))\n",
            "    (batch_norm_shortcut): BatchNorm2d(512, eps=1e-05, momentum=0.1, affine=True, track_running_stats=True)\n",
            "    (relu): ReLU()\n",
            "  )\n",
            "  (id_block_3_1): IdentityBlock(\n",
            "    (conv1): Conv2d(512, 128, kernel_size=(1, 1), stride=(1, 1))\n",
            "    (batch_norm1): BatchNorm2d(128, eps=1e-05, momentum=0.1, affine=True, track_running_stats=True)\n",
            "    (conv2): Conv2d(128, 128, kernel_size=(3, 3), stride=(1, 1), padding=(1, 1))\n",
            "    (batch_norm2): BatchNorm2d(128, eps=1e-05, momentum=0.1, affine=True, track_running_stats=True)\n",
            "    (conv3): Conv2d(128, 512, kernel_size=(1, 1), stride=(1, 1))\n",
            "    (batch_norm3): BatchNorm2d(512, eps=1e-05, momentum=0.1, affine=True, track_running_stats=True)\n",
            "    (relu): ReLU()\n",
            "  )\n",
            "  (id_block_3_2): IdentityBlock(\n",
            "    (conv1): Conv2d(512, 128, kernel_size=(1, 1), stride=(1, 1))\n",
            "    (batch_norm1): BatchNorm2d(128, eps=1e-05, momentum=0.1, affine=True, track_running_stats=True)\n",
            "    (conv2): Conv2d(128, 128, kernel_size=(3, 3), stride=(1, 1), padding=(1, 1))\n",
            "    (batch_norm2): BatchNorm2d(128, eps=1e-05, momentum=0.1, affine=True, track_running_stats=True)\n",
            "    (conv3): Conv2d(128, 512, kernel_size=(1, 1), stride=(1, 1))\n",
            "    (batch_norm3): BatchNorm2d(512, eps=1e-05, momentum=0.1, affine=True, track_running_stats=True)\n",
            "    (relu): ReLU()\n",
            "  )\n",
            "  (id_block_3_3): IdentityBlock(\n",
            "    (conv1): Conv2d(512, 128, kernel_size=(1, 1), stride=(1, 1))\n",
            "    (batch_norm1): BatchNorm2d(128, eps=1e-05, momentum=0.1, affine=True, track_running_stats=True)\n",
            "    (conv2): Conv2d(128, 128, kernel_size=(3, 3), stride=(1, 1), padding=(1, 1))\n",
            "    (batch_norm2): BatchNorm2d(128, eps=1e-05, momentum=0.1, affine=True, track_running_stats=True)\n",
            "    (conv3): Conv2d(128, 512, kernel_size=(1, 1), stride=(1, 1))\n",
            "    (batch_norm3): BatchNorm2d(512, eps=1e-05, momentum=0.1, affine=True, track_running_stats=True)\n",
            "    (relu): ReLU()\n",
            "  )\n",
            "  (conv_block_4_1): ConvolutionalBlock(\n",
            "    (conv1): Conv2d(512, 256, kernel_size=(1, 1), stride=(2, 2))\n",
            "    (batch_norm1): BatchNorm2d(256, eps=1e-05, momentum=0.1, affine=True, track_running_stats=True)\n",
            "    (conv2): Conv2d(256, 256, kernel_size=(3, 3), stride=(1, 1), padding=(1, 1))\n",
            "    (batch_norm2): BatchNorm2d(256, eps=1e-05, momentum=0.1, affine=True, track_running_stats=True)\n",
            "    (conv3): Conv2d(256, 1024, kernel_size=(1, 1), stride=(1, 1))\n",
            "    (batch_norm3): BatchNorm2d(1024, eps=1e-05, momentum=0.1, affine=True, track_running_stats=True)\n",
            "    (conv_shortcut): Conv2d(512, 1024, kernel_size=(1, 1), stride=(2, 2))\n",
            "    (batch_norm_shortcut): BatchNorm2d(1024, eps=1e-05, momentum=0.1, affine=True, track_running_stats=True)\n",
            "    (relu): ReLU()\n",
            "  )\n",
            "  (id_block_4_1): IdentityBlock(\n",
            "    (conv1): Conv2d(1024, 256, kernel_size=(1, 1), stride=(1, 1))\n",
            "    (batch_norm1): BatchNorm2d(256, eps=1e-05, momentum=0.1, affine=True, track_running_stats=True)\n",
            "    (conv2): Conv2d(256, 256, kernel_size=(3, 3), stride=(1, 1), padding=(1, 1))\n",
            "    (batch_norm2): BatchNorm2d(256, eps=1e-05, momentum=0.1, affine=True, track_running_stats=True)\n",
            "    (conv3): Conv2d(256, 1024, kernel_size=(1, 1), stride=(1, 1))\n",
            "    (batch_norm3): BatchNorm2d(1024, eps=1e-05, momentum=0.1, affine=True, track_running_stats=True)\n",
            "    (relu): ReLU()\n",
            "  )\n",
            "  (id_block_4_2): IdentityBlock(\n",
            "    (conv1): Conv2d(1024, 256, kernel_size=(1, 1), stride=(1, 1))\n",
            "    (batch_norm1): BatchNorm2d(256, eps=1e-05, momentum=0.1, affine=True, track_running_stats=True)\n",
            "    (conv2): Conv2d(256, 256, kernel_size=(3, 3), stride=(1, 1), padding=(1, 1))\n",
            "    (batch_norm2): BatchNorm2d(256, eps=1e-05, momentum=0.1, affine=True, track_running_stats=True)\n",
            "    (conv3): Conv2d(256, 1024, kernel_size=(1, 1), stride=(1, 1))\n",
            "    (batch_norm3): BatchNorm2d(1024, eps=1e-05, momentum=0.1, affine=True, track_running_stats=True)\n",
            "    (relu): ReLU()\n",
            "  )\n",
            "  (id_block_4_3): IdentityBlock(\n",
            "    (conv1): Conv2d(1024, 256, kernel_size=(1, 1), stride=(1, 1))\n",
            "    (batch_norm1): BatchNorm2d(256, eps=1e-05, momentum=0.1, affine=True, track_running_stats=True)\n",
            "    (conv2): Conv2d(256, 256, kernel_size=(3, 3), stride=(1, 1), padding=(1, 1))\n",
            "    (batch_norm2): BatchNorm2d(256, eps=1e-05, momentum=0.1, affine=True, track_running_stats=True)\n",
            "    (conv3): Conv2d(256, 1024, kernel_size=(1, 1), stride=(1, 1))\n",
            "    (batch_norm3): BatchNorm2d(1024, eps=1e-05, momentum=0.1, affine=True, track_running_stats=True)\n",
            "    (relu): ReLU()\n",
            "  )\n",
            "  (id_block_4_4): IdentityBlock(\n",
            "    (conv1): Conv2d(1024, 256, kernel_size=(1, 1), stride=(1, 1))\n",
            "    (batch_norm1): BatchNorm2d(256, eps=1e-05, momentum=0.1, affine=True, track_running_stats=True)\n",
            "    (conv2): Conv2d(256, 256, kernel_size=(3, 3), stride=(1, 1), padding=(1, 1))\n",
            "    (batch_norm2): BatchNorm2d(256, eps=1e-05, momentum=0.1, affine=True, track_running_stats=True)\n",
            "    (conv3): Conv2d(256, 1024, kernel_size=(1, 1), stride=(1, 1))\n",
            "    (batch_norm3): BatchNorm2d(1024, eps=1e-05, momentum=0.1, affine=True, track_running_stats=True)\n",
            "    (relu): ReLU()\n",
            "  )\n",
            "  (id_block_4_5): IdentityBlock(\n",
            "    (conv1): Conv2d(1024, 256, kernel_size=(1, 1), stride=(1, 1))\n",
            "    (batch_norm1): BatchNorm2d(256, eps=1e-05, momentum=0.1, affine=True, track_running_stats=True)\n",
            "    (conv2): Conv2d(256, 256, kernel_size=(3, 3), stride=(1, 1), padding=(1, 1))\n",
            "    (batch_norm2): BatchNorm2d(256, eps=1e-05, momentum=0.1, affine=True, track_running_stats=True)\n",
            "    (conv3): Conv2d(256, 1024, kernel_size=(1, 1), stride=(1, 1))\n",
            "    (batch_norm3): BatchNorm2d(1024, eps=1e-05, momentum=0.1, affine=True, track_running_stats=True)\n",
            "    (relu): ReLU()\n",
            "  )\n",
            "  (conv_block_5_1): ConvolutionalBlock(\n",
            "    (conv1): Conv2d(1024, 512, kernel_size=(1, 1), stride=(2, 2))\n",
            "    (batch_norm1): BatchNorm2d(512, eps=1e-05, momentum=0.1, affine=True, track_running_stats=True)\n",
            "    (conv2): Conv2d(512, 512, kernel_size=(3, 3), stride=(1, 1), padding=(1, 1))\n",
            "    (batch_norm2): BatchNorm2d(512, eps=1e-05, momentum=0.1, affine=True, track_running_stats=True)\n",
            "    (conv3): Conv2d(512, 2048, kernel_size=(1, 1), stride=(1, 1))\n",
            "    (batch_norm3): BatchNorm2d(2048, eps=1e-05, momentum=0.1, affine=True, track_running_stats=True)\n",
            "    (conv_shortcut): Conv2d(1024, 2048, kernel_size=(1, 1), stride=(2, 2))\n",
            "    (batch_norm_shortcut): BatchNorm2d(2048, eps=1e-05, momentum=0.1, affine=True, track_running_stats=True)\n",
            "    (relu): ReLU()\n",
            "  )\n",
            "  (id_block_5_1): IdentityBlock(\n",
            "    (conv1): Conv2d(2048, 512, kernel_size=(1, 1), stride=(1, 1))\n",
            "    (batch_norm1): BatchNorm2d(512, eps=1e-05, momentum=0.1, affine=True, track_running_stats=True)\n",
            "    (conv2): Conv2d(512, 512, kernel_size=(3, 3), stride=(1, 1), padding=(1, 1))\n",
            "    (batch_norm2): BatchNorm2d(512, eps=1e-05, momentum=0.1, affine=True, track_running_stats=True)\n",
            "    (conv3): Conv2d(512, 2048, kernel_size=(1, 1), stride=(1, 1))\n",
            "    (batch_norm3): BatchNorm2d(2048, eps=1e-05, momentum=0.1, affine=True, track_running_stats=True)\n",
            "    (relu): ReLU()\n",
            "  )\n",
            "  (id_block_5_2): IdentityBlock(\n",
            "    (conv1): Conv2d(2048, 512, kernel_size=(1, 1), stride=(1, 1))\n",
            "    (batch_norm1): BatchNorm2d(512, eps=1e-05, momentum=0.1, affine=True, track_running_stats=True)\n",
            "    (conv2): Conv2d(512, 512, kernel_size=(3, 3), stride=(1, 1), padding=(1, 1))\n",
            "    (batch_norm2): BatchNorm2d(512, eps=1e-05, momentum=0.1, affine=True, track_running_stats=True)\n",
            "    (conv3): Conv2d(512, 2048, kernel_size=(1, 1), stride=(1, 1))\n",
            "    (batch_norm3): BatchNorm2d(2048, eps=1e-05, momentum=0.1, affine=True, track_running_stats=True)\n",
            "    (relu): ReLU()\n",
            "  )\n",
            "  (avg_pool): AvgPool2d(kernel_size=(2, 2), stride=(2, 2), padding=(0, 0))\n",
            "  (fc1): Linear(in_features=2048, out_features=512, bias=True)\n",
            "  (fc2): Linear(in_features=512, out_features=64, bias=True)\n",
            "  (fc3): Linear(in_features=64, out_features=10, bias=True)\n",
            ")\n"
          ],
          "name": "stdout"
        }
      ]
    },
    {
      "cell_type": "markdown",
      "metadata": {
        "id": "YNYPihtXh-QI",
        "colab_type": "text"
      },
      "source": [
        "## Test model on some images\n"
      ]
    },
    {
      "cell_type": "code",
      "metadata": {
        "id": "p0eZytMOhXfZ",
        "colab_type": "code",
        "colab": {
          "base_uri": "https://localhost:8080/",
          "height": 271
        },
        "outputId": "af078fae-2b71-4e8b-c1f4-4e30e58a89ed"
      },
      "source": [
        "print(f'Plotting 10 random images from the test set and their corresponding labels...')\n",
        "dataiter = iter(testloader)\n",
        "images, labels = dataiter.next()\n",
        "\n",
        "f, axarr = plt.subplots(2, 5, sharex=True, sharey=True)\n",
        "\n",
        "model.eval()\n",
        "for i in range(2):\n",
        "  for j in range(5):\n",
        "    index = np.random.randint(0, 64)\n",
        "    axarr[i, j].imshow(im_show_process(images[index]))\n",
        "    output = model(images[index].view(1, images[index].shape[0], images[index].shape[2], images[index].shape[2]).to(device))\n",
        "    outptut = F.softmax(output, dim=1)\n",
        "    top_value, top_class = output.topk(1, dim=1)\n",
        "    axarr[i, j].set_xlabel('Predicted: ' + str(top_class.item()))\n",
        "    axarr[i, j].set_title('Actual: ' + str(classes[labels[index]]))"
      ],
      "execution_count": 36,
      "outputs": [
        {
          "output_type": "stream",
          "text": [
            "Plotting 10 random images from the test set and their corresponding labels...\n"
          ],
          "name": "stdout"
        },
        {
          "output_type": "display_data",
          "data": {
            "image/png": "[encoded data removed]",
            "text/plain": [
              "<Figure size 432x288 with 10 Axes>"
            ]
          },
          "metadata": {
            "tags": []
          }
        }
      ]
    },
    {
      "cell_type": "code",
      "metadata": {
        "id": "_OfGBY42iatL",
        "colab_type": "code",
        "colab": {}
      },
      "source": [
        ""
      ],
      "execution_count": 0,
      "outputs": []
    }
  ]
}