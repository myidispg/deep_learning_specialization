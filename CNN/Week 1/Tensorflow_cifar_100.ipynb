{
  "nbformat": 4,
  "nbformat_minor": 0,
  "metadata": {
    "colab": {
      "name": "Tensorflow_cifar_100.ipynb",
      "version": "0.3.2",
      "provenance": [],
      "collapsed_sections": [],
      "include_colab_link": true
    },
    "kernelspec": {
      "name": "python3",
      "display_name": "Python 3"
    },
    "accelerator": "GPU"
  },
  "cells": [
    {
      "cell_type": "markdown",
      "metadata": {
        "id": "view-in-github",
        "colab_type": "text"
      },
      "source": [
        "<a href=\"https://colab.research.google.com/github/myidispg/deep_learning_specialization/blob/master/CNN/Week%201/Tensorflow_cifar_100.ipynb\" target=\"_parent\"><img src=\"https://colab.research.google.com/assets/colab-badge.svg\" alt=\"Open In Colab\"/></a>"
      ]
    },
    {
      "cell_type": "markdown",
      "metadata": {
        "id": "DCl6nbGfmwXD",
        "colab_type": "text"
      },
      "source": [
        "#This notebook serves to demostrate the use of CNN on CIFAR 10 dataset\n",
        "\n",
        "Dataset: https://www.cs.toronto.edu/~kriz/cifar.html\n"
      ]
    },
    {
      "cell_type": "code",
      "metadata": {
        "id": "sawWg1JYlOWj",
        "colab_type": "code",
        "colab": {}
      },
      "source": [
        "import matplotlib.pyplot as plt\n",
        "# To display images inline with the Jupyter Notebook.\n",
        "%matplotlib inline\n",
        "\n",
        "import numpy as np\n",
        "import pandas as pd\n",
        "\n",
        "# For downloading and extracting the .tar files in the dataset\n",
        "import os\n",
        "import tarfile\n",
        "import urllib\n",
        "import requests\n",
        "\n",
        "# For image related tasks.\n",
        "from PIL import Image\n",
        "\n",
        "import tensorflow as tf"
      ],
      "execution_count": 0,
      "outputs": []
    },
    {
      "cell_type": "markdown",
      "metadata": {
        "id": "wgdZvaSEx3Ox",
        "colab_type": "text"
      },
      "source": [
        "##Create a folder for the cifar 10 dataset."
      ]
    },
    {
      "cell_type": "code",
      "metadata": {
        "id": "9Q-BojNyxlxR",
        "colab_type": "code",
        "outputId": "ce9dabbf-5245-4dc0-c0b2-e94ed6d73658",
        "colab": {
          "base_uri": "https://localhost:8080/",
          "height": 51
        }
      },
      "source": [
        "!mkdir cifar_data\n",
        "!ls"
      ],
      "execution_count": 2,
      "outputs": [
        {
          "output_type": "stream",
          "text": [
            "mkdir: cannot create directory ‘cifar_data’: File exists\n",
            "cifar_data  sample_data\n"
          ],
          "name": "stdout"
        }
      ]
    },
    {
      "cell_type": "markdown",
      "metadata": {
        "id": "p1bhAMHk0DWz",
        "colab_type": "text"
      },
      "source": [
        "##Check and see if the data download is required.\n",
        "\n",
        "The below code will download the data if it doesn't exist in the path: \n",
        "\n",
        "```\n",
        "cifar_data/cifar-10-python.tar.gz\n",
        "```\n",
        "\n",
        "If the data exists, dowmload is skipped. Else, the data is downloaded.\n",
        "\n",
        "**Note**: There could be errors where a file exists but it is corrupted or some other issues like incomplete downloads. In such cases, please remove the file and download run the folowing cell again to download the dataset.\n",
        "\n"
      ]
    },
    {
      "cell_type": "code",
      "metadata": {
        "id": "1E499tgXosio",
        "colab_type": "code",
        "outputId": "9e82ef41-0a70-4243-b912-a41e314ab1e0",
        "colab": {
          "base_uri": "https://localhost:8080/",
          "height": 51
        }
      },
      "source": [
        "dataset_url = \"https://www.cs.toronto.edu/~kriz/cifar-10-python.tar.gz\"\n",
        "\n",
        "print('Checking if data exists...')\n",
        "\n",
        "if os.path.basename(dataset_url) in os.listdir('cifar_data/'):\n",
        "  print('Skipping data download. It already exists.')\n",
        "else:\n",
        "  print('Downloading data...')\n",
        "  r = requests.get(dataset_url)\n",
        "\n",
        "  with open(f'cifar_data/{os.path.basename(dataset_url)}', 'wb') as file:\n",
        "    file.write(r.content)\n",
        "  print('Data downloaded!')\n",
        "  \n",
        "tarfile_path = f'cifar_data/{os.path.basename(dataset_url)}'"
      ],
      "execution_count": 3,
      "outputs": [
        {
          "output_type": "stream",
          "text": [
            "Checking if data exists...\n",
            "Skipping data download. It already exists.\n"
          ],
          "name": "stdout"
        }
      ]
    },
    {
      "cell_type": "markdown",
      "metadata": {
        "id": "15bT9L1523Pz",
        "colab_type": "text"
      },
      "source": [
        "##Extract the files from the tarfile.\n",
        "\n",
        "The tarfile contains contains the files data_batch_1, data_batch_2, ..., data_batch_5, as well as test_batch. Each of these files is a Python \"pickled\" object produced with cPickle.\n",
        "\n",
        "The extracted files will be stored in the directory: ```cifar_data/cifar-10-batches_py/```"
      ]
    },
    {
      "cell_type": "code",
      "metadata": {
        "id": "Upqtp12ryI3u",
        "colab_type": "code",
        "outputId": "83c40870-2ab3-41ee-c191-747b8176086c",
        "colab": {
          "base_uri": "https://localhost:8080/",
          "height": 105
        }
      },
      "source": [
        "tfile = tarfile.open(tarfile_path)\n",
        "\n",
        "print('The tarfile has the following members.')\n",
        "print(tfile.getnames())\n",
        "print('Extracting all the members...')\n",
        "tfile.extractall('cifar_data/')\n",
        "print('Extraction complete.')"
      ],
      "execution_count": 4,
      "outputs": [
        {
          "output_type": "stream",
          "text": [
            "The tarfile has the following members.\n",
            "['cifar-10-batches-py', 'cifar-10-batches-py/data_batch_4', 'cifar-10-batches-py/readme.html', 'cifar-10-batches-py/test_batch', 'cifar-10-batches-py/data_batch_3', 'cifar-10-batches-py/batches.meta', 'cifar-10-batches-py/data_batch_2', 'cifar-10-batches-py/data_batch_5', 'cifar-10-batches-py/data_batch_1']\n",
            "Extracting all the members...\n",
            "Extraction complete.\n"
          ],
          "name": "stdout"
        }
      ]
    },
    {
      "cell_type": "markdown",
      "metadata": {
        "id": "6bh8BcTU3qDi",
        "colab_type": "text"
      },
      "source": [
        "##The unpickle() method reads the batches file and returns a dictionary."
      ]
    },
    {
      "cell_type": "code",
      "metadata": {
        "id": "I1TnZJnW1JBP",
        "colab_type": "code",
        "colab": {}
      },
      "source": [
        "def unpickle(file):\n",
        "    import pickle\n",
        "    with open(file, 'rb') as fo:\n",
        "        dict = pickle.load(fo, encoding='bytes')\n",
        "    return dict\n",
        "\n",
        "flag = True # A flag to track whether to create keys of append to existing keys.\n",
        "dictionary = dict()\n",
        "\n",
        "for batch in os.listdir('cifar_data/cifar-10-batches-py'):\n",
        "  if batch not in ['batches.meta', 'readme.html', 'test_batch']:\n",
        "    \n",
        "    dictionary_raw = unpickle(f'cifar_data/cifar-10-batches-py/{batch}')\n",
        "    if flag: # Create keys.\n",
        "      # ^^ Reshape images to 32x32x3 format.\n",
        "      dictionary['labels'] = dictionary_raw[b'labels']\n",
        "      dictionary['data'] = dictionary_raw[b'data'].reshape(10000, 3, 32, 32).transpose(0, 2, 3, 1) \n",
        "      flag = not flag # Now, the data will be appended to the created keys.\n",
        "    else:\n",
        "      dictionary['labels'] += dictionary_raw[b'labels']\n",
        "      dictionary['data'] = np.concatenate((dictionary['data'], dictionary_raw[b'data'].reshape(10000, 3, 32, 32).transpose(0, 2, 3, 1)))"
      ],
      "execution_count": 0,
      "outputs": []
    },
    {
      "cell_type": "markdown",
      "metadata": {
        "id": "vhOJxCbJd55H",
        "colab_type": "text"
      },
      "source": [
        "# Get the test data too."
      ]
    },
    {
      "cell_type": "code",
      "metadata": {
        "id": "9dktoD8jd8TX",
        "colab_type": "code",
        "colab": {}
      },
      "source": [
        "test_dictionary = dict()\n",
        "dictionary_raw = unpickle('cifar_data/cifar-10-batches-py/test_batch')\n",
        "\n",
        "test_dictionary['labels'] = dictionary_raw[b'labels']\n",
        "test_dictionary['data'] = dictionary_raw[b'data'].reshape(10000, 3, 32, 32).transpose(0, 2, 3, 1) # Reshape images to 32x32x3 format."
      ],
      "execution_count": 0,
      "outputs": []
    },
    {
      "cell_type": "markdown",
      "metadata": {
        "id": "U8udhiIGdnYn",
        "colab_type": "text"
      },
      "source": [
        "## Some constants and the label data."
      ]
    },
    {
      "cell_type": "code",
      "metadata": {
        "id": "3pmKBioOdqSH",
        "colab_type": "code",
        "colab": {}
      },
      "source": [
        "train_size = 40000\n",
        "valid_size = 10000\n",
        "test_size = 10000\n",
        "im_height = 32\n",
        "im_width = 32\n",
        "num_channels = 3\n",
        "num_classes = 10\n",
        "\n",
        "label_names = ['airplane', 'automobile', 'bird', 'cat', 'deer', 'dog', 'frog', 'horse', 'ship', 'truck']"
      ],
      "execution_count": 0,
      "outputs": []
    },
    {
      "cell_type": "markdown",
      "metadata": {
        "id": "27TSazhhdkns",
        "colab_type": "text"
      },
      "source": [
        "## To see if everything is in order, display some images randomly and their corresponding labels.\n",
        "\n",
        "I will display 10 images and their labels from randomly generated indexes."
      ]
    },
    {
      "cell_type": "code",
      "metadata": {
        "id": "1ULf0RWiaf5P",
        "colab_type": "code",
        "outputId": "625eddb7-6a45-47fd-c358-8cf191335f66",
        "colab": {
          "base_uri": "https://localhost:8080/",
          "height": 257
        }
      },
      "source": [
        "f, axarr = plt.subplots(2, 5)\n",
        "\n",
        "for i in range(2):\n",
        "  for j in range(5):\n",
        "    index = np.random.randint(0, train_size)\n",
        "    axarr[i, j].imshow(dictionary['data'][index])\n",
        "    axarr[i, j].set_title(label_names[dictionary['labels'][index]])\n",
        "\n",
        "\"\"\"Visually, we can determine that the loading of data into dictionaries has been done correctly.\"\"\""
      ],
      "execution_count": 8,
      "outputs": [
        {
          "output_type": "execute_result",
          "data": {
            "text/plain": [
              "'Visually, we can determine that the loading of data into dictionaries has been done correctly.'"
            ]
          },
          "metadata": {
            "tags": []
          },
          "execution_count": 8
        },
        {
          "output_type": "display_data",
          "data": {
            "image/png": "[encoded data removed]",
            "text/plain": [
              "<Figure size 432x288 with 10 Axes>"
            ]
          },
          "metadata": {
            "tags": []
          }
        }
      ]
    },
    {
      "cell_type": "markdown",
      "metadata": {
        "id": "cPZtZ7iehSRE",
        "colab_type": "text"
      },
      "source": [
        "## Convert the dictionaries to numpy arrays."
      ]
    },
    {
      "cell_type": "code",
      "metadata": {
        "id": "JbxYamTAiqqo",
        "colab_type": "code",
        "colab": {}
      },
      "source": [
        "train_images = np.asarray(dictionary['data'])\n",
        "train_labels = np.asarray(dictionary['labels'])\n",
        "\n",
        "test_images = np.asarray(test_dictionary['data'])\n",
        "test_labels = np.asarray(test_dictionary['labels'])"
      ],
      "execution_count": 0,
      "outputs": []
    },
    {
      "cell_type": "markdown",
      "metadata": {
        "id": "e8EQiPwnjDv6",
        "colab_type": "text"
      },
      "source": [
        "## Perform some cleanup. \n",
        "\n",
        "Though this is not required, I would like to get rid of some unused things."
      ]
    },
    {
      "cell_type": "code",
      "metadata": {
        "id": "3K5JNdbHi498",
        "colab_type": "code",
        "outputId": "faa0343a-a8cc-4304-d6a5-664f87e484e2",
        "colab": {
          "base_uri": "https://localhost:8080/",
          "height": 34
        }
      },
      "source": [
        "import gc\n",
        "\n",
        "del dictionary_raw, dictionary, test_dictionary, tfile\n",
        "gc.collect()"
      ],
      "execution_count": 10,
      "outputs": [
        {
          "output_type": "execute_result",
          "data": {
            "text/plain": [
              "37"
            ]
          },
          "metadata": {
            "tags": []
          },
          "execution_count": 10
        }
      ]
    },
    {
      "cell_type": "markdown",
      "metadata": {
        "id": "giikhYBUkGH1",
        "colab_type": "text"
      },
      "source": [
        "# Now, moving on to some pre processing.\n",
        "\n",
        "The pre processing will include normalization and one hot encoding."
      ]
    },
    {
      "cell_type": "markdown",
      "metadata": {
        "id": "yeRlAYovlTs5",
        "colab_type": "text"
      },
      "source": [
        "###Normalization\n",
        "\n",
        "I am going to use **Min-Max Normalization** `(y = (x-min) / (max-min))`,but there are other options too. \n",
        "By applying Min-Max normalization, the original image data is going to be transformed in range of 0 to 1 (inclusive). "
      ]
    },
    {
      "cell_type": "code",
      "metadata": {
        "id": "nh7CtA6yjVcG",
        "colab_type": "code",
        "colab": {}
      },
      "source": [
        "def normalize(x):\n",
        "  \n",
        "  x = (x-np.min(x))/ (np.max(x) - np.min(x))\n",
        "  \n",
        "  return x\n",
        "\n",
        "train_images = normalize(train_images)\n",
        "test_images = normalize(test_images)"
      ],
      "execution_count": 0,
      "outputs": []
    },
    {
      "cell_type": "markdown",
      "metadata": {
        "id": "cYvvaTwb1Tz5",
        "colab_type": "text"
      },
      "source": [
        "###One Hot Encode the labels."
      ]
    },
    {
      "cell_type": "code",
      "metadata": {
        "id": "Yr1xLi8vmBbI",
        "colab_type": "code",
        "outputId": "d93a8211-02f0-455d-8bc4-92490ff3afbd",
        "colab": {
          "base_uri": "https://localhost:8080/",
          "height": 85
        }
      },
      "source": [
        "def one_hot_encode(Y, C):\n",
        "  encoded = np.zeros((len(Y), C))\n",
        "  \n",
        "  for idx, val in enumerate(Y):\n",
        "    encoded[idx][val] = 1\n",
        "  \n",
        "  return encoded\n",
        "\n",
        "train_labels = one_hot_encode(train_labels, num_classes)\n",
        "test_labels = one_hot_encode(test_labels, num_classes)\n",
        "\n",
        "# # Split into validation and train split\n",
        "# validation_images = train_images[train_size:, :]\n",
        "# validation_labels = train_labels[train_size:, :]\n",
        "\n",
        "train_images = train_images[:train_size, :]\n",
        "train_labels = train_labels[:train_size, :]\n",
        "\n",
        "print(f'The shape of training data: {train_images.shape}')\n",
        "print(f'The shape of training labels: {train_labels.shape}')\n",
        "# print(f'The shape of validation data: {validation_images.shape}')\n",
        "# print(f'The shape of validation labels: {validation_labels.shape}')\n",
        "print(f'The shape of test images: {test_images.shape}')\n",
        "print(f'The shape of test labels: {test_labels.shape}')"
      ],
      "execution_count": 12,
      "outputs": [
        {
          "output_type": "stream",
          "text": [
            "The shape of training data: (40000, 32, 32, 3)\n",
            "The shape of training labels: (40000, 10)\n",
            "The shape of test images: (10000, 32, 32, 3)\n",
            "The shape of test labels: (10000, 10)\n"
          ],
          "name": "stdout"
        }
      ]
    },
    {
      "cell_type": "markdown",
      "metadata": {
        "id": "UEnXZALYKW3J",
        "colab_type": "text"
      },
      "source": [
        "##Function to split the data into mini_batches"
      ]
    },
    {
      "cell_type": "code",
      "metadata": {
        "id": "bj-SwYuIKbRm",
        "colab_type": "code",
        "colab": {}
      },
      "source": [
        "def get_mini_batches(X, Y, mini_batch_size):\n",
        "  m = X.shape[0] # number of examples\n",
        "  mini_batches = []\n",
        "  \n",
        "  # Shuffle X and Y\n",
        "  shuffles = list(np.random.permutation(m))\n",
        "  shuffled_X = X[shuffles, :, :, :]\n",
        "  shuffled_Y = Y[shuffles,:]\n",
        "  \n",
        "  # Partition the shuffles batches but exclude the end case.\n",
        "  num_complete_minibatches = m//mini_batch_size\n",
        "  for k in range(num_complete_minibatches):\n",
        "    mini_batch_X = shuffled_X[k * mini_batch_size : k * mini_batch_size + mini_batch_size,:,:,:]\n",
        "    mini_batch_Y = shuffled_Y[k * mini_batch_size : k * mini_batch_size + mini_batch_size,:]\n",
        "    mini_batch = (mini_batch_X, mini_batch_Y)\n",
        "    mini_batches.append(mini_batch)\n",
        "    \n",
        "  if m % mini_batch_size != 0:\n",
        "    mini_batch_X = shuffled_X[num_complete_minibatches * mini_batch_size : m,:,:,:]\n",
        "    mini_batch_Y = shuffled_Y[num_complete_minibatches * mini_batch_size : m,:]\n",
        "    mini_batch = (mini_batch_X, mini_batch_Y)\n",
        "    mini_batches.append(mini_batch)\n",
        "    \n",
        "  return mini_batches"
      ],
      "execution_count": 0,
      "outputs": []
    },
    {
      "cell_type": "markdown",
      "metadata": {
        "id": "eKZA5kOd9kH3",
        "colab_type": "text"
      },
      "source": [
        "### Declare some hyper parameters for the model training process."
      ]
    },
    {
      "cell_type": "code",
      "metadata": {
        "id": "wBd3lcYp9oHn",
        "colab_type": "code",
        "colab": {}
      },
      "source": [
        "epochs = 100\n",
        "keep_probability = 0.8\n",
        "learning_rate = 0.001\n",
        "batch_size = 128"
      ],
      "execution_count": 0,
      "outputs": []
    },
    {
      "cell_type": "markdown",
      "metadata": {
        "id": "8Q5vxK0e5O8t",
        "colab_type": "text"
      },
      "source": [
        "# Define the model\n",
        "\n",
        "### I am going to be using the Le Net architecture.\n",
        "\n",
        "The architecture **is** detailed here: https://medium.com/datadriveninvestor/five-powerful-cnn-architectures-b939c9ddd57b\n",
        "\n",
        "####LeNet-5 — LeCun et al\n",
        "LeNet-5, a 7 layer Convolutional Neural Network, was deployed in many banking systems to recognize hand-written numbers on cheques.\n",
        "\n",
        "\n",
        "---\n",
        "\n",
        "\n",
        "![LeNet-5 Architecture](https://cdn-images-1.medium.com/max/1200/1*avmwxTth2efzRlvSr6MaKg.jpeg)\n",
        "LeNet-5 — Architecture\n",
        "\n",
        "\n",
        "---\n",
        "\n",
        "\n",
        "The model contains 7 layers excluding the input layer. Since it is a relatively small architecture, let’s go layer by layer:\n",
        "\n",
        "**Layer 1**: A convolutional layer with kernel size of 5×5, stride of 1×1 and 6 kernels in total. So the input image of size 32x32x1 gives an output of 28x28x6. Total params in layer = 5 * 5 * 6 + 6 (bias terms)\n",
        "\n",
        "**Layer 2**: A pooling layer with 2×2 kernel size, stride of 2×2 and 6 kernels in total. This pooling layer acted a little differently than what we discussed in previous post. The input values in the receptive were summed up and then were multiplied to a trainable parameter (1 per filter), the result was finally added to a trainable bias (1 per filter). Finally, sigmoid activation was applied to the output. So, the input from previous layer of size 28x28x6 gets sub-sampled to 14x14x6. Total params in layer = [1 (trainable parameter) + 1 (trainable bias)] * 6 = 12\n",
        "\n",
        "**Layer 3**: Similar to Layer 1, this layer is a convolutional layer with same configuration except it has 16 filters instead of 6. So the input from previous layer of size 14x14x6 gives an output of 10x10x16. Total params in layer = 5 * 5 * 16 + 16 = 416.\n",
        "\n",
        "**Layer 4**: Again, similar to Layer 2, this layer is a pooling layer with 16 filters this time around. Remember, the outputs are passed through sigmoid activation function. The input of size 10x10x16 from previous layer gets sub-sampled to 5x5x16. Total params in layer = (1 + 1) * 16 = 32\n",
        "\n",
        "**Layer 5**: This time around we have a convolutional layer with 5×5 kernel size and 120 filters. There is no need to even consider strides as the input size is 5x5x16 so we will get an output of 1x1x120. Total params in layer = 5 * 5 * 120 = 3000\n",
        "\n",
        "**Layer 6**: This is a dense layer with 84 parameters. So, the input of 120 units is converted to 84 units. Total params = 84 * 120 + 84 = 10164. The activation function used here was rather a unique one. I’ll say you can just try out any of your choice here as the task is pretty simple one by today’s standards.\n",
        "\n",
        "**Output Layer**: Finally, a dense layer with 10 units is used. Total params = 84 * 10 + 10 = 924."
      ]
    },
    {
      "cell_type": "code",
      "metadata": {
        "id": "pht9HNGL1l7M",
        "colab_type": "code",
        "colab": {}
      },
      "source": [
        "X = tf.placeholder(tf.float32, shape=(None, im_height, im_width, num_channels), name='input_x')\n",
        "Y = tf.placeholder(tf.float32, shape=(None, num_classes), name='output_y')\n",
        "keep_prob = tf.placeholder(tf.float32, name='keep_prob') # Shape can be found automatically.\n",
        "\n",
        "def model(x, keep_prob):\n",
        "  filter1 = tf.get_variable('filter_1', [5, 5, 3, 6], initializer=tf.contrib.layers.xavier_initializer(seed=0))\n",
        "  filter2 = tf.get_variable('filter_2', [5, 5, 6, 16], initializer=tf.contrib.layers.xavier_initializer(seed=0))\n",
        "  filter3 = tf.get_variable('filter_3', [5, 5, 16, 256], initializer=tf.contrib.layers.xavier_initializer(seed=0))\n",
        "  filter4 = tf.get_variable('filter_4', [5, 5, 256, 512], initializer=tf.contrib.layers.xavier_initializer(seed=0))\n",
        "  \n",
        "  # Input -> 32x32x3\n",
        "  conv1 = tf.nn.conv2d(x, filter1, strides=[1,1,1,1], padding='SAME') # Output -> 28x28x6\n",
        "  conv1 = tf.nn.relu(conv1)\n",
        "  pool1 = tf.nn.max_pool(conv1, ksize=[1, 2, 2, 1], strides=[1,2,2,1], padding='SAME') # Output -> 14x14x6\n",
        "  \n",
        "  conv2 = tf.nn.conv2d(pool1, filter2, strides=[1, 1, 1, 1], padding='VALID') # Output -> 10x10x16\n",
        "  conv2 = tf.nn.relu(conv2)\n",
        "  pool2 = tf.nn.max_pool(conv2, ksize=[1, 2, 2, 1], strides=[1, 2, 2, 1], padding='SAME') # Output -> 5x5x16\n",
        "  \n",
        "  # Flatten. Input -> 5x5x16, Output -> 400\n",
        "  flatten = tf.contrib.layers.flatten(pool2)\n",
        "  \n",
        "  # Hidden layers\n",
        "  hidden = tf.contrib.layers.fully_connected(flatten, num_outputs=128, activation_fn=tf.nn.relu)\n",
        "  hidden = tf.nn.dropout(hidden, keep_prob)\n",
        "  hidden = tf.layers.batch_normalization(hidden)\n",
        "  \n",
        "  hidden = tf.contrib.layers.fully_connected(hidden , num_outputs=64, activation_fn=tf.nn.relu)\n",
        "  hidden = tf.nn.dropout(hidden, keep_prob)\n",
        "  hidden = tf.layers.batch_normalization(hidden)\n",
        "  \n",
        "  # Output\n",
        "  output = tf.contrib.layers.fully_connected(hidden, num_outputs=num_classes, activation_fn=None)\n",
        "  \n",
        "  \n",
        "  return output"
      ],
      "execution_count": 0,
      "outputs": []
    },
    {
      "cell_type": "markdown",
      "metadata": {
        "id": "JAXJu90B95lu",
        "colab_type": "text"
      },
      "source": [
        "### Define the cost function and the optimizer.\n",
        "\n",
        "I am going to be using the Adam Optimizer. The loss function is going to be Softmax Cross Entropy Loss because it is a classification task with more than 2 classes."
      ]
    },
    {
      "cell_type": "code",
      "metadata": {
        "id": "f0jE9vVkBMVr",
        "colab_type": "code",
        "colab": {
          "base_uri": "https://localhost:8080/",
          "height": 479
        },
        "outputId": "e5a90dea-8a2d-408f-8038-cb41ba867cd6"
      },
      "source": [
        "logits = model(X, keep_prob)\n",
        "\n",
        "# Loss and Optimizer\n",
        "cost = tf.reduce_mean(tf.nn.softmax_cross_entropy_with_logits(logits=logits, labels=Y))\n",
        "optimizer = tf.train.AdamOptimizer(learning_rate=learning_rate).minimize(cost)\n",
        "\n",
        "# Find out the accuracy\n",
        "correct_pred = tf.equal(tf.argmax(logits, axis = 1), tf.argmax(Y, axis = 1)) # See if the prediction index is same as the label index. \n",
        "accuracy = tf.reduce_mean(tf.cast(correct_pred, tf.float32), name='accuracy')"
      ],
      "execution_count": 16,
      "outputs": [
        {
          "output_type": "stream",
          "text": [
            "WARNING: Logging before flag parsing goes to stderr.\n",
            "W0618 06:56:00.097050 139625782196096 lazy_loader.py:50] \n",
            "The TensorFlow contrib module will not be included in TensorFlow 2.0.\n",
            "For more information, please see:\n",
            "  * https://github.com/tensorflow/community/blob/master/rfcs/20180907-contrib-sunset.md\n",
            "  * https://github.com/tensorflow/addons\n",
            "  * https://github.com/tensorflow/io (for I/O related ops)\n",
            "If you depend on functionality not listed there, please file an issue.\n",
            "\n",
            "W0618 06:56:00.135894 139625782196096 deprecation.py:323] From /usr/local/lib/python3.6/dist-packages/tensorflow/contrib/layers/python/layers/layers.py:1634: flatten (from tensorflow.python.layers.core) is deprecated and will be removed in a future version.\n",
            "Instructions for updating:\n",
            "Use keras.layers.flatten instead.\n",
            "W0618 06:56:00.611462 139625782196096 deprecation.py:506] From <ipython-input-15-bc3fa88b55a7>:25: calling dropout (from tensorflow.python.ops.nn_ops) with keep_prob is deprecated and will be removed in a future version.\n",
            "Instructions for updating:\n",
            "Please use `rate` instead of `keep_prob`. Rate should be set to `rate = 1 - keep_prob`.\n",
            "W0618 06:56:00.624794 139625782196096 deprecation.py:323] From <ipython-input-15-bc3fa88b55a7>:26: batch_normalization (from tensorflow.python.layers.normalization) is deprecated and will be removed in a future version.\n",
            "Instructions for updating:\n",
            "Use keras.layers.BatchNormalization instead.  In particular, `tf.control_dependencies(tf.GraphKeys.UPDATE_OPS)` should not be used (consult the `tf.keras.layers.batch_normalization` documentation).\n",
            "W0618 06:56:00.750344 139625782196096 deprecation.py:323] From <ipython-input-16-e176705b10cb>:4: softmax_cross_entropy_with_logits (from tensorflow.python.ops.nn_ops) is deprecated and will be removed in a future version.\n",
            "Instructions for updating:\n",
            "\n",
            "Future major versions of TensorFlow will allow gradients to flow\n",
            "into the labels input on backprop by default.\n",
            "\n",
            "See `tf.nn.softmax_cross_entropy_with_logits_v2`.\n",
            "\n"
          ],
          "name": "stderr"
        }
      ]
    },
    {
      "cell_type": "markdown",
      "metadata": {
        "id": "D5-ZDDE_CfKM",
        "colab_type": "text"
      },
      "source": [
        "### Train the model.\n",
        "\n",
        "I am going to run the model and optimzie over batches."
      ]
    },
    {
      "cell_type": "code",
      "metadata": {
        "id": "JPzepASNCxQM",
        "colab_type": "code",
        "colab": {
          "base_uri": "https://localhost:8080/",
          "height": 129
        },
        "outputId": "11322023-b431-44fb-cde2-1a457bc4ca47"
      },
      "source": [
        "# # A function to run the graph over a single batch\n",
        "\n",
        "# def train_network(session, optimizer, keep_prob, input_batch, label_batch):\n",
        "#   session.run(optimizer, feed_dict={X: input_batch, Y: label_batch, keep_prob:keep_prob})\n",
        "  \n",
        "# def print_stats(session, feature_batch, label_batch, cost, accuracy):\n",
        "#     loss = sess.run(cost, \n",
        "#                     feed_dict={\n",
        "#                         x: feature_batch,\n",
        "#                         y: label_batch,\n",
        "#                         keep_prob: 1.\n",
        "#                     })\n",
        "#     valid_acc = sess.run(accuracy, \n",
        "#                          feed_dict={\n",
        "#                              x: valid_features,\n",
        "#                              y: valid_labels,\n",
        "#                              keep_prob: 1.\n",
        "#                          })\n",
        "    \n",
        "#     print('Loss: {:>10.4f} Validation Accuracy: {:.6f}'.format(loss, valid_acc))"
      ],
      "execution_count": 17,
      "outputs": [
        {
          "output_type": "error",
          "ename": "SyntaxError",
          "evalue": "ignored",
          "traceback": [
            "\u001b[0;36m  File \u001b[0;32m\"<ipython-input-17-e9f76dc833aa>\"\u001b[0;36m, line \u001b[0;32m3\u001b[0m\n\u001b[0;31m    session.run(optimizer, feed_dict={X: input_batch, Y: label_batch, keep_prob=keep_prob})\u001b[0m\n\u001b[0m                                                                               ^\u001b[0m\n\u001b[0;31mSyntaxError\u001b[0m\u001b[0;31m:\u001b[0m invalid syntax\n"
          ]
        }
      ]
    },
    {
      "cell_type": "code",
      "metadata": {
        "id": "WPMspfylErQ8",
        "colab_type": "code",
        "colab": {
          "base_uri": "https://localhost:8080/",
          "height": 170
        },
        "outputId": "b23bfbdc-eb46-468b-8370-caddcf1e8d41"
      },
      "source": [
        "with tf.Session() as sess:\n",
        "  # Intializing the variables\n",
        "  sess.run(tf.global_variables_initializer())\n",
        "  \n",
        "  # Training\n",
        "  for epoch in range(epochs):\n",
        "    mini_batch_cost = 0\n",
        "    train_mini_batch_size = train_size // batch_size\n",
        "#     valid_mini_batch_size = valid_size // batch_size\n",
        "    test_mini_batch_size = test_size // batch_size  \n",
        "  \n",
        "    train_minibatches = get_mini_batches(train_images, train_labels, batch_size)\n",
        "#     valid_minibatches = get_mini_batches(validation_images, validation_labels, batch_size)\n",
        "    test_mini_batches = get_mini_batches(test_images, test_labels, batch_size)\n",
        "    \n",
        "    for minibatch in train_minibatches:\n",
        "      (minibatch_X, minibatch_Y) = minibatch\n",
        "      _, temp_cost = sess.run([optimizer, cost], feed_dict={X: minibatch_X, Y: minibatch_Y, keep_prob: keep_probability})\n",
        "      \n",
        "      mini_batch_cost += temp_cost / train_mini_batch_size\n",
        "      \n",
        "    for minibatch in test_mini_batches:\n",
        "      (minibatch_X, minibatch_Y) = minibatch\n",
        "      acc = sess.run(accuracy, feed_dict={X: minibatch_X, Y: minibatch_Y, keep_prob: 1}) # While validation, we need to make sure that all neurons are activated.\n",
        "      \n",
        "    \n",
        "    print(f'Epoch: {epoch + 1}\\t training_loss: {mini_batch_cost}\\t validation_accuracy: {acc}')\n",
        "    "
      ],
      "execution_count": 0,
      "outputs": [
        {
          "output_type": "stream",
          "text": [
            "Epoch: 1\t training_loss: 1.8646073746375558\t validation_accuracy: 0.25\n",
            "Epoch: 2\t training_loss: 1.5548529613476527\t validation_accuracy: 0.625\n",
            "Epoch: 3\t training_loss: 1.4393082131177954\t validation_accuracy: 0.5625\n",
            "Epoch: 4\t training_loss: 1.360599303092713\t validation_accuracy: 0.625\n",
            "Epoch: 5\t training_loss: 1.299765368684745\t validation_accuracy: 0.4375\n",
            "Epoch: 6\t training_loss: 1.2506610342325304\t validation_accuracy: 0.5\n",
            "Epoch: 7\t training_loss: 1.2095881545772922\t validation_accuracy: 0.5\n",
            "Epoch: 8\t training_loss: 1.1702326532357774\t validation_accuracy: 0.625\n",
            "Epoch: 9\t training_loss: 1.1405601816681714\t validation_accuracy: 0.4375\n"
          ],
          "name": "stdout"
        }
      ]
    },
    {
      "cell_type": "code",
      "metadata": {
        "id": "poWZWuBnLp-a",
        "colab_type": "code",
        "colab": {}
      },
      "source": [
        ""
      ],
      "execution_count": 0,
      "outputs": []
    }
  ]
}