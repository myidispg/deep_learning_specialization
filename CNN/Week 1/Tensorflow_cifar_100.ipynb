{
  "nbformat": 4,
  "nbformat_minor": 0,
  "metadata": {
    "colab": {
      "name": "Tensorflow_cifar_100.ipynb",
      "version": "0.3.2",
      "provenance": [],
      "collapsed_sections": [],
      "include_colab_link": true
    },
    "kernelspec": {
      "name": "python3",
      "display_name": "Python 3"
    },
    "accelerator": "GPU"
  },
  "cells": [
    {
      "cell_type": "markdown",
      "metadata": {
        "id": "view-in-github",
        "colab_type": "text"
      },
      "source": [
        "<a href=\"https://colab.research.google.com/github/myidispg/deep_learning_specialization/blob/master/CNN/Week%201/Tensorflow_cifar_100.ipynb\" target=\"_parent\"><img src=\"https://colab.research.google.com/assets/colab-badge.svg\" alt=\"Open In Colab\"/></a>"
      ]
    },
    {
      "cell_type": "markdown",
      "metadata": {
        "id": "DCl6nbGfmwXD",
        "colab_type": "text"
      },
      "source": [
        "#This notebook serves to demostrate the use of CNN on CIFAR 10 dataset\n",
        "\n",
        "Dataset: https://www.cs.toronto.edu/~kriz/cifar.html\n"
      ]
    },
    {
      "cell_type": "code",
      "metadata": {
        "id": "sawWg1JYlOWj",
        "colab_type": "code",
        "colab": {}
      },
      "source": [
        "import tensorflow as tf\n",
        "\n",
        "import matplotlib.pyplot as plt\n",
        "# To display images inline with the Jupyter Notebook.\n",
        "%matplotlib inline\n",
        "\n",
        "import numpy as np\n",
        "import pandas as pd\n",
        "\n",
        "# For downloading and extracting the .tar files in the dataset\n",
        "import os\n",
        "import tarfile\n",
        "import urllib\n",
        "import requests\n",
        "\n",
        "# For image related tasks.\n",
        "from PIL import Image"
      ],
      "execution_count": 0,
      "outputs": []
    },
    {
      "cell_type": "markdown",
      "metadata": {
        "id": "wgdZvaSEx3Ox",
        "colab_type": "text"
      },
      "source": [
        "##Create a folder for the cifar 10 dataset."
      ]
    },
    {
      "cell_type": "code",
      "metadata": {
        "id": "9Q-BojNyxlxR",
        "colab_type": "code",
        "colab": {
          "base_uri": "https://localhost:8080/",
          "height": 51
        },
        "outputId": "e679e65d-158e-4c61-b78b-472c232ba046"
      },
      "source": [
        "!mkdir cifar_data\n",
        "!ls"
      ],
      "execution_count": 113,
      "outputs": [
        {
          "output_type": "stream",
          "text": [
            "mkdir: cannot create directory ‘cifar_data’: File exists\n",
            "cifar-10-batches-py  cifar_data  sample_data\n"
          ],
          "name": "stdout"
        }
      ]
    },
    {
      "cell_type": "markdown",
      "metadata": {
        "id": "p1bhAMHk0DWz",
        "colab_type": "text"
      },
      "source": [
        "##Check and see if the data download is required.\n",
        "\n",
        "The below code will download the data if it doesn't exist in the path: \n",
        "\n",
        "```\n",
        "cifar_data/cifar-10-python.tar.gz\n",
        "```\n",
        "\n",
        "If the data exists, dowmload is skipped. Else, the data is downloaded.\n",
        "\n",
        "**Note**: There could be errors where a file exists but it is corrupted or some other issues like incomplete downloads. In such cases, please remove the file and download run the folowing cell again to download the dataset.\n",
        "\n"
      ]
    },
    {
      "cell_type": "code",
      "metadata": {
        "id": "1E499tgXosio",
        "colab_type": "code",
        "colab": {
          "base_uri": "https://localhost:8080/",
          "height": 51
        },
        "outputId": "b3d948dd-b71b-4cae-c03b-230338df28c8"
      },
      "source": [
        "dataset_url = \"https://www.cs.toronto.edu/~kriz/cifar-10-python.tar.gz\"\n",
        "\n",
        "print('Checking if data exists...')\n",
        "\n",
        "if os.path.basename(dataset_url) in os.listdir('cifar_data/'):\n",
        "  print('Skipping data download. It already exists.')\n",
        "else:\n",
        "  print('Downloading data...')\n",
        "  r = requests.get(dataset_url)\n",
        "\n",
        "  with open(f'cifar_data/{os.path.basename(dataset_url)}', 'wb') as file:\n",
        "    file.write(r.content)\n",
        "  print('Data downloaded!')\n",
        "  \n",
        "tarfile_path = f'cifar_data/{os.path.basename(dataset_url)}'"
      ],
      "execution_count": 114,
      "outputs": [
        {
          "output_type": "stream",
          "text": [
            "Checking if data exists...\n",
            "Skipping data download. It already exists.\n"
          ],
          "name": "stdout"
        }
      ]
    },
    {
      "cell_type": "markdown",
      "metadata": {
        "id": "15bT9L1523Pz",
        "colab_type": "text"
      },
      "source": [
        "##Extract the files from the tarfile.\n",
        "\n",
        "The tarfile contains contains the files data_batch_1, data_batch_2, ..., data_batch_5, as well as test_batch. Each of these files is a Python \"pickled\" object produced with cPickle.\n",
        "\n",
        "The extracted files will be stored in the directory: ```cifar_data/cifar-10-batches_py/```"
      ]
    },
    {
      "cell_type": "code",
      "metadata": {
        "id": "Upqtp12ryI3u",
        "colab_type": "code",
        "colab": {
          "base_uri": "https://localhost:8080/",
          "height": 105
        },
        "outputId": "a40d7559-1ccd-4f28-d066-10d5ab95a927"
      },
      "source": [
        "tf = tarfile.open(tarfile_path)\n",
        "\n",
        "print('The tarfile has the following members.')\n",
        "print(tf.getnames())\n",
        "print('Extracting all the members...')\n",
        "tf.extractall('cifar_data/')\n",
        "print('Extraction complete.')"
      ],
      "execution_count": 164,
      "outputs": [
        {
          "output_type": "stream",
          "text": [
            "The tarfile has the following members.\n",
            "['cifar-10-batches-py', 'cifar-10-batches-py/data_batch_4', 'cifar-10-batches-py/readme.html', 'cifar-10-batches-py/test_batch', 'cifar-10-batches-py/data_batch_3', 'cifar-10-batches-py/batches.meta', 'cifar-10-batches-py/data_batch_2', 'cifar-10-batches-py/data_batch_5', 'cifar-10-batches-py/data_batch_1']\n",
            "Extracting all the members...\n",
            "Extraction complete.\n"
          ],
          "name": "stdout"
        }
      ]
    },
    {
      "cell_type": "markdown",
      "metadata": {
        "id": "6bh8BcTU3qDi",
        "colab_type": "text"
      },
      "source": [
        "##The unpickle() method reads the batches file and returns a dictionary."
      ]
    },
    {
      "cell_type": "code",
      "metadata": {
        "id": "I1TnZJnW1JBP",
        "colab_type": "code",
        "colab": {}
      },
      "source": [
        "def unpickle(file):\n",
        "    import pickle\n",
        "    with open(file, 'rb') as fo:\n",
        "        dict = pickle.load(fo, encoding='bytes')\n",
        "    return dict\n",
        "\n",
        "flag = True # A flag to track whether to create keys of append to existing keys.\n",
        "dictionary = dict()\n",
        "\n",
        "for batch in os.listdir('cifar_data/cifar-10-batches-py'):\n",
        "  if batch not in ['batches.meta', 'readme.html', 'test_batch']:\n",
        "    \n",
        "    dictionary_raw = unpickle(f'cifar_data/cifar-10-batches-py/{batch}')\n",
        "    if flag: # Create keys.\n",
        "      # ^^ Reshape images to 32x32x3 format.\n",
        "      dictionary['labels'] = dictionary_raw[b'labels']\n",
        "      dictionary['data'] = dictionary_raw[b'data'].reshape(10000, 3, 32, 32).transpose(0, 2, 3, 1) \n",
        "      flag = not flag # Now, the data will be appended to the created keys.\n",
        "    else:\n",
        "      dictionary['labels'] += dictionary_raw[b'labels']\n",
        "      dictionary['data'] = np.concatenate((dictionary['data'], dictionary_raw[b'data'].reshape(10000, 3, 32, 32).transpose(0, 2, 3, 1)))"
      ],
      "execution_count": 0,
      "outputs": []
    },
    {
      "cell_type": "markdown",
      "metadata": {
        "id": "vhOJxCbJd55H",
        "colab_type": "text"
      },
      "source": [
        "# Get the test data too."
      ]
    },
    {
      "cell_type": "code",
      "metadata": {
        "id": "9dktoD8jd8TX",
        "colab_type": "code",
        "colab": {}
      },
      "source": [
        "test_dictionary = dict()\n",
        "dictionary_raw = unpickle('cifar_data/cifar-10-batches-py/test_batch')\n",
        "\n",
        "test_dictionary['labels'] = dictionary_raw[b'labels']\n",
        "test_dictionary['data'] = dictionary_raw[b'data'].reshape(10000, 3, 32, 32).transpose(0, 2, 3, 1) # Reshape images to 32x32x3 format."
      ],
      "execution_count": 0,
      "outputs": []
    },
    {
      "cell_type": "markdown",
      "metadata": {
        "id": "U8udhiIGdnYn",
        "colab_type": "text"
      },
      "source": [
        "## Some constants and the label data."
      ]
    },
    {
      "cell_type": "code",
      "metadata": {
        "id": "3pmKBioOdqSH",
        "colab_type": "code",
        "colab": {}
      },
      "source": [
        "train_size = 50000\n",
        "test_size = 10000\n",
        "im_height = 32\n",
        "im_width = 32\n",
        "num_channels = 3\n",
        "\n",
        "label_names = ['airplane', 'automobile', 'bird', 'cat', 'deer', 'dog', 'frog', 'horse', 'ship', 'truck']"
      ],
      "execution_count": 0,
      "outputs": []
    },
    {
      "cell_type": "markdown",
      "metadata": {
        "id": "27TSazhhdkns",
        "colab_type": "text"
      },
      "source": [
        "## To see if everything is in order, display some images randomly and their corresponding labels.\n",
        "\n",
        "I will display 10 images and their labels from randomly generated indexes."
      ]
    },
    {
      "cell_type": "code",
      "metadata": {
        "id": "1ULf0RWiaf5P",
        "colab_type": "code",
        "colab": {
          "base_uri": "https://localhost:8080/",
          "height": 257
        },
        "outputId": "84d1db0b-0f73-49a2-85b5-0dc5eaf10dd5"
      },
      "source": [
        "f, axarr = plt.subplots(2, 5)\n",
        "\n",
        "for i in range(2):\n",
        "  for j in range(5):\n",
        "    index = np.random.randint(0, train_size)\n",
        "    axarr[i, j].imshow(dictionary['data'][index])\n",
        "    axarr[i, j].set_title(label_names[dictionary['labels'][index]])\n",
        "\n",
        "\"\"\"Visually, we can determine that the loading of data into dictionaries has been done correctly.\"\"\""
      ],
      "execution_count": 159,
      "outputs": [
        {
          "output_type": "execute_result",
          "data": {
            "text/plain": [
              "'Visually, we can determine that the loading of data into dictionaries has been done correctly.'"
            ]
          },
          "metadata": {
            "tags": []
          },
          "execution_count": 159
        },
        {
          "output_type": "display_data",
          "data": {
            "image/png": "[encoded data removed]",
            "text/plain": [
              "<Figure size 432x288 with 10 Axes>"
            ]
          },
          "metadata": {
            "tags": []
          }
        }
      ]
    },
    {
      "cell_type": "markdown",
      "metadata": {
        "id": "cPZtZ7iehSRE",
        "colab_type": "text"
      },
      "source": [
        "## Convert the dictionaries to numpy arrays."
      ]
    },
    {
      "cell_type": "code",
      "metadata": {
        "id": "JbxYamTAiqqo",
        "colab_type": "code",
        "colab": {}
      },
      "source": [
        "train_images = np.asarray(dictionary['data'])\n",
        "train_labels = np.asarray(dictionary['labels'])\n",
        "\n",
        "test_images = np.asarray(dictionary['data'])\n",
        "test_labels = np.asarray(dictionary['labels'])"
      ],
      "execution_count": 0,
      "outputs": []
    },
    {
      "cell_type": "markdown",
      "metadata": {
        "id": "e8EQiPwnjDv6",
        "colab_type": "text"
      },
      "source": [
        "## Perform some cleanup. \n",
        "\n",
        "Though this is not required, I would like to get rid of some unused things."
      ]
    },
    {
      "cell_type": "code",
      "metadata": {
        "id": "3K5JNdbHi498",
        "colab_type": "code",
        "colab": {
          "base_uri": "https://localhost:8080/",
          "height": 34
        },
        "outputId": "04da530a-14b4-41e7-bab4-19f0634e1495"
      },
      "source": [
        "import gc\n",
        "\n",
        "del dictionary_raw, dictionary, test_dictionary, tf\n",
        "gc.collect()"
      ],
      "execution_count": 167,
      "outputs": [
        {
          "output_type": "execute_result",
          "data": {
            "text/plain": [
              "80780"
            ]
          },
          "metadata": {
            "tags": []
          },
          "execution_count": 167
        }
      ]
    },
    {
      "cell_type": "markdown",
      "metadata": {
        "id": "giikhYBUkGH1",
        "colab_type": "text"
      },
      "source": [
        "# Now, moving on to some pre processing.\n",
        "\n",
        "The pre processing will include normalization and one hot encoding."
      ]
    },
    {
      "cell_type": "markdown",
      "metadata": {
        "id": "yeRlAYovlTs5",
        "colab_type": "text"
      },
      "source": [
        "###Normalization\n",
        "\n",
        "I am going to use **Min-Max Normalization** `(y = (x-min) / (max-min))`,but there are other options too. \n",
        "By applying Min-Max normalization, the original image data is going to be transformed in range of 0 to 1 (inclusive). "
      ]
    },
    {
      "cell_type": "code",
      "metadata": {
        "id": "nh7CtA6yjVcG",
        "colab_type": "code",
        "colab": {}
      },
      "source": [
        "def normalize(x):\n",
        "  \n",
        "  x = (x-np.min(x))/ (np.max(x) - np.min(x))\n",
        "  \n",
        "  return x\n",
        "\n",
        "train_images = normalize(train_images)\n",
        "test_images = normalize(test_images)"
      ],
      "execution_count": 0,
      "outputs": []
    },
    {
      "cell_type": "code",
      "metadata": {
        "id": "Yr1xLi8vmBbI",
        "colab_type": "code",
        "colab": {}
      },
      "source": [
        ""
      ],
      "execution_count": 0,
      "outputs": []
    }
  ]
}